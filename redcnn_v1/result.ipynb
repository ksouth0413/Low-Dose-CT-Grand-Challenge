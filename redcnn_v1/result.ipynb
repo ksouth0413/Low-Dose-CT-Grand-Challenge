{
 "cells": [
  {
   "cell_type": "markdown",
   "metadata": {},
   "source": [
    "# 데이터셋 불러오기"
   ]
  },
  {
   "cell_type": "code",
   "execution_count": 1,
   "metadata": {},
   "outputs": [],
   "source": [
    "# IMA이미지를 불러오는 라이브러리\n",
    "import pydicom\n",
    "\n",
    "import numpy as np\n",
    "import torch\n",
    "import torchvision.transforms as transforms\n",
    "import matplotlib as mpl\n",
    "import matplotlib.pyplot as plt\n",
    "mpl.rcParams['figure.figsize'] = [3.0, 3.0]\n",
    "import seaborn as sns\n",
    "import torch.nn as nn\n",
    "\n",
    "import glob\n",
    "\n",
    "from torch.utils.data import DataLoader\n"
   ]
  },
  {
   "cell_type": "code",
   "execution_count": 2,
   "metadata": {},
   "outputs": [
    {
     "data": {
      "text/plain": [
       "['L067',\n",
       " 'L096',\n",
       " 'L109',\n",
       " 'L143',\n",
       " 'L192',\n",
       " 'L286',\n",
       " 'L291',\n",
       " 'L310',\n",
       " 'L333',\n",
       " 'L506']"
      ]
     },
     "execution_count": 2,
     "metadata": {},
     "output_type": "execute_result"
    }
   ],
   "source": [
    "import glob\n",
    "\n",
    "L_list = glob.glob('/root/Mayo2016/*')\n",
    "L_list = [path.split('/')[-1] for path in L_list]\n",
    "L_list.sort()\n",
    "L_list"
   ]
  },
  {
   "cell_type": "code",
   "execution_count": 3,
   "metadata": {},
   "outputs": [],
   "source": [
    "data_label = ['quarter_1mm', 'full_1mm']"
   ]
  },
  {
   "cell_type": "code",
   "execution_count": 4,
   "metadata": {},
   "outputs": [],
   "source": [
    "def normlize(path):\n",
    "  dicom_data = pydicom.dcmread(path)\n",
    "  img = dicom_data.pixel_array.astype(np.float32) * dicom_data.RescaleSlope + dicom_data.RescaleIntercept\n",
    "  mu, sd = (-500,500)\n",
    "  scaled_img = (img - mu) / sd\n",
    "  img = np.expand_dims(scaled_img, axis=0)\n",
    "\n",
    "  return img # 1x512x512"
   ]
  },
  {
   "cell_type": "code",
   "execution_count": 5,
   "metadata": {},
   "outputs": [],
   "source": [
    "def extract_patches(img, patch_size=55, interval=55):\n",
    "  patches = []\n",
    "  _, height, width = img.shape\n",
    "  for y in range(0, height - patch_size + 1, interval):\n",
    "    for x in range(0, width - patch_size + 1, interval):\n",
    "      patch = img[:, y:y + patch_size, x:x + patch_size]\n",
    "      patches.append(patch)\n",
    "  patches = np.array(patches)\n",
    "  return patches # patch수x1x55x55"
   ]
  },
  {
   "cell_type": "code",
   "execution_count": 6,
   "metadata": {},
   "outputs": [],
   "source": [
    "import random\n",
    "from scipy.ndimage import rotate, zoom\n",
    "\n",
    "def augment_patches(X_patches, y_patches, p=0.5):\n",
    "    X_augmented_patches, y_augmented_patches = [], []\n",
    "    \n",
    "    # random이 들어가기에, X랑 y를 동시에 넣어준다.\n",
    "    for i, (X_patch, y_patch) in enumerate(zip(X_patches, y_patches)):\n",
    "        # 원본 패치 추가\n",
    "        X_augmented_patches.append(X_patch)\n",
    "        y_augmented_patches.append(y_patch)\n",
    "\n",
    "        if random.random() < p:\n",
    "            # 1. 90, 270으로 돌려보자.(뒤집기랑 조금 다르긴 하지만, 점대칭 vs 선대칭, 그냥 +-90도만 쓰자.)\n",
    "            X, y = rotate(X_patch, 90, axes=(1, 2), reshape=False), rotate(y_patch, 90, axes=(1, 2), reshape=False)\n",
    "            X_augmented_patches.append(X)\n",
    "            y_augmented_patches.append(y)\n",
    "            X, y = rotate(X_patch, -90, axes=(1, 2), reshape=False), rotate(y_patch, -90, axes=(1, 2), reshape=False)\n",
    "            X_augmented_patches.append(X)\n",
    "            y_augmented_patches.append(y)\n",
    "        if random.random() < p:\n",
    "            # 2. 수직 뒤집기\n",
    "            X,y = np.flip(X_patch, axis=1),np.flip(y_patch, axis=1)\n",
    "            X_augmented_patches.append(X)\n",
    "            y_augmented_patches.append(y)\n",
    "        if random.random() < p:\n",
    "            # 3. 수평 뒤집기\n",
    "            X,y = np.flip(X_patch, axis=2),np.flip(y_patch, axis=2)\n",
    "            X_augmented_patches.append(X)\n",
    "            y_augmented_patches.append(y)\n",
    "\n",
    "    return np.array(X_augmented_patches), np.array(y_augmented_patches)"
   ]
  },
  {
   "cell_type": "code",
   "execution_count": 7,
   "metadata": {},
   "outputs": [],
   "source": [
    "def patch_maker_W_aug(X_dir, y_dir):\n",
    "  X_img, y_img = normlize(X_dir), normlize(y_dir)\n",
    "  X_patches = extract_patches(img=X_img, patch_size=55, interval=55)\n",
    "  y_patches = extract_patches(img=y_img, patch_size=55, interval=55)\n",
    "  X_augmented_patches, y_augmented_patches = augment_patches(X_patches, y_patches, p=0.5)\n",
    "  return X_augmented_patches, y_augmented_patches"
   ]
  },
  {
   "cell_type": "code",
   "execution_count": 8,
   "metadata": {},
   "outputs": [],
   "source": [
    "def patch_maker_WO_aug(X_dir, y_dir):\n",
    "  X_img, y_img = normlize(X_dir), normlize(y_dir)\n",
    "  X_patches = extract_patches(img=X_img, patch_size=55, interval=55)\n",
    "  y_patches = extract_patches(img=y_img, patch_size=55, interval=55)\n",
    "  return X_patches, y_patches"
   ]
  },
  {
   "cell_type": "code",
   "execution_count": 9,
   "metadata": {},
   "outputs": [],
   "source": [
    "import os\n",
    "from torch.utils.data import Dataset\n",
    "import torch\n",
    "import glob\n",
    "from tqdm import tqdm\n",
    "\n",
    "class CustomDataset(Dataset):\n",
    "    def __init__(self, data_type, patch_maker, L_list):\n",
    "        self.data_type = data_type\n",
    "        self.patch_maker = patch_maker\n",
    "        self.L_list = L_list\n",
    "        self.image_pairs = []\n",
    "\n",
    "        X_dir_list, y_dir_list = [], []\n",
    "        for L in self.L_list:\n",
    "            X_dir, y_dir = self.get_data_range(L)\n",
    "            X_dir_list += X_dir\n",
    "            y_dir_list += y_dir\n",
    "\n",
    "        for X_dir, y_dir in tqdm(zip(X_dir_list, y_dir_list), total=len(X_dir_list), desc=f\"{self.data_type} is processing\"):\n",
    "            X_patches, y_patches = self.patch_maker(X_dir, y_dir)\n",
    "            for i in range(X_patches.shape[0]):\n",
    "                X_patch, y_patch = torch.from_numpy(X_patches[i]), torch.from_numpy(y_patches[i]) # torch로 넣어주자.\n",
    "                self.image_pairs.append((X_patch, y_patch))\n",
    "\n",
    "    def get_data_range(self, L):\n",
    "        \"\"\"슬라이싱 범위를 설정하는 함수\"\"\"\n",
    "        X_dir = sorted(glob.glob(f'/root/Mayo2016/{L}/{data_label[0]}/*.IMA'))\n",
    "        y_dir = sorted(glob.glob(f'/root/Mayo2016/{L}/{data_label[1]}/*.IMA'))\n",
    "        n1, n2 = len(X_dir), len(y_dir)\n",
    "        \n",
    "        if self.data_type == 'train':\n",
    "            X_range = X_dir[:int(n1 * 0.64)]\n",
    "            y_range = y_dir[:int(n2 * 0.64)]\n",
    "        elif self.data_type == 'val':\n",
    "            X_range = X_dir[int(n1 * 0.64):int(n1 * 0.8)]\n",
    "            y_range = y_dir[int(n2 * 0.64):int(n2 * 0.8)]\n",
    "        else:  # test\n",
    "            X_range = X_dir[int(n1 * 0.8):]\n",
    "            y_range = y_dir[int(n2 * 0.8):]\n",
    "\n",
    "        return X_range, y_range\n",
    "\n",
    "    def __len__(self):\n",
    "        return len(self.image_pairs)\n",
    "\n",
    "    def __getitem__(self, idx):\n",
    "        X = self.image_pairs[idx][0]\n",
    "        y = self.image_pairs[idx][1]\n",
    "        return X, y"
   ]
  },
  {
   "cell_type": "code",
   "execution_count": 10,
   "metadata": {},
   "outputs": [],
   "source": [
    "# 파일 경로 설정\n",
    "root = '/root/code/'\n",
    "test_path = root+'test_dataset.pt'\n",
    "\n",
    "# 데이터셋 불러오기\n",
    "test_dataset = torch.load(test_path) # 45초"
   ]
  },
  {
   "cell_type": "code",
   "execution_count": 11,
   "metadata": {},
   "outputs": [],
   "source": [
    "batch_size = 16\n",
    "test_loader = DataLoader(test_dataset, batch_size=batch_size, shuffle=False, num_workers=0)"
   ]
  },
  {
   "cell_type": "code",
   "execution_count": 12,
   "metadata": {},
   "outputs": [
    {
     "data": {
      "text/plain": [
       "6025"
      ]
     },
     "execution_count": 12,
     "metadata": {},
     "output_type": "execute_result"
    }
   ],
   "source": [
    "len(test_loader)"
   ]
  },
  {
   "cell_type": "markdown",
   "metadata": {},
   "source": [
    "# 1. REDCNN"
   ]
  },
  {
   "cell_type": "code",
   "execution_count": 227,
   "metadata": {},
   "outputs": [
    {
     "name": "stdout",
     "output_type": "stream",
     "text": [
      "/root/code/unet/attention_spatial\n"
     ]
    }
   ],
   "source": [
    "!pwd"
   ]
  },
  {
   "cell_type": "code",
   "execution_count": 228,
   "metadata": {},
   "outputs": [
    {
     "name": "stdout",
     "output_type": "stream",
     "text": [
      "/root/code/redcnn/base\n"
     ]
    }
   ],
   "source": [
    "%cd /root/code/redcnn/base"
   ]
  },
  {
   "cell_type": "code",
   "execution_count": 229,
   "metadata": {},
   "outputs": [
    {
     "data": {
      "text/plain": [
       "device(type='cuda')"
      ]
     },
     "execution_count": 229,
     "metadata": {},
     "output_type": "execute_result"
    }
   ],
   "source": [
    "import torch\n",
    "device = torch.device('cuda' if torch.cuda.is_available() else 'cpu')\n",
    "device"
   ]
  },
  {
   "cell_type": "code",
   "execution_count": 230,
   "metadata": {},
   "outputs": [],
   "source": [
    "import torch\n",
    "import torch.nn as nn\n",
    "\n",
    "class RedCNN(nn.Module):\n",
    "    def __init__(self):\n",
    "        super(RedCNN, self).__init__()\n",
    "\n",
    "        # 인코더 부분\n",
    "        self.conv1 = nn.Conv2d(1, 96, 5, 1, 0)\n",
    "        self.conv2 = nn.Conv2d(96, 96, 5, 1, 0)\n",
    "        self.conv3 = nn.Conv2d(96, 96, 5, 1, 0)\n",
    "        self.conv4 = nn.Conv2d(96, 96, 5, 1, 0)\n",
    "        self.conv5 = nn.Conv2d(96, 96, 5, 1, 0)\n",
    "        \n",
    "        # 디코더 부분\n",
    "        self.deconv1 = nn.ConvTranspose2d(96, 96, 5, 1, 0)\n",
    "        self.deconv2 = nn.ConvTranspose2d(96, 96, 5, 1, 0)\n",
    "        self.deconv3 = nn.ConvTranspose2d(96, 96, 5, 1, 0)\n",
    "        self.deconv4 = nn.ConvTranspose2d(96, 96, 5, 1, 0)\n",
    "        self.deconv_last = nn.ConvTranspose2d(96, 1, 5, 1, 0)\n",
    "\n",
    "        self.relu = nn.ReLU()\n",
    "\n",
    "\n",
    "    def forward(self, x):\n",
    "        # 인코더 부분\n",
    "        residual1 = x  # 첫 번째 잔차 저장\n",
    "        x = self.relu(self.conv1(x))\n",
    "        x = self.relu(self.conv2(x))\n",
    "        residual2 = x  # 두 번째 잔차 저장\n",
    "        x = self.relu(self.conv3(x))\n",
    "        x = self.relu(self.conv4(x))\n",
    "        residual3 = x  # 세 번째 잔차 저장\n",
    "        x = self.relu(self.conv5(x))\n",
    "        \n",
    "        # 디코더 부분 (잔차를 더해줌)\n",
    "        x = self.relu(self.deconv1(x)) + residual3  # 세 번째 잔차 연결\n",
    "        x = self.relu(self.deconv2(x))\n",
    "        x = self.relu((self.deconv3(x)) + residual2)  # 두 번째 잔차 연결\n",
    "        x = self.relu(self.deconv4(x))\n",
    "        x = self.deconv_last(x) + residual1  # 첫 번째 잔차 연결\n",
    "        \n",
    "        return x"
   ]
  },
  {
   "cell_type": "code",
   "execution_count": 231,
   "metadata": {},
   "outputs": [
    {
     "name": "stderr",
     "output_type": "stream",
     "text": [
      "Evaluating:  17%|█▋        | 1005/6025 [00:21<01:43, 48.71it/s]"
     ]
    },
    {
     "name": "stdout",
     "output_type": "stream",
     "text": [
      "RMSE per interval: 0.0452, PSNR per interval: 27.74, SSIM per interval: 0.6797\n"
     ]
    },
    {
     "name": "stderr",
     "output_type": "stream",
     "text": [
      "Evaluating:  33%|███▎      | 2005/6025 [00:41<01:22, 48.81it/s]"
     ]
    },
    {
     "name": "stdout",
     "output_type": "stream",
     "text": [
      "RMSE per interval: 0.0427, PSNR per interval: 28.52, SSIM per interval: 0.6954\n"
     ]
    },
    {
     "name": "stderr",
     "output_type": "stream",
     "text": [
      "Evaluating:  50%|████▉     | 3005/6025 [01:01<01:01, 48.77it/s]"
     ]
    },
    {
     "name": "stdout",
     "output_type": "stream",
     "text": [
      "RMSE per interval: 0.0429, PSNR per interval: 28.67, SSIM per interval: 0.7047\n"
     ]
    },
    {
     "name": "stderr",
     "output_type": "stream",
     "text": [
      "Evaluating:  66%|██████▋   | 4005/6025 [01:22<00:41, 48.62it/s]"
     ]
    },
    {
     "name": "stdout",
     "output_type": "stream",
     "text": [
      "RMSE per interval: 0.0368, PSNR per interval: 29.65, SSIM per interval: 0.7310\n"
     ]
    },
    {
     "name": "stderr",
     "output_type": "stream",
     "text": [
      "Evaluating:  83%|████████▎ | 5005/6025 [01:42<00:20, 48.84it/s]"
     ]
    },
    {
     "name": "stdout",
     "output_type": "stream",
     "text": [
      "RMSE per interval: 0.0364, PSNR per interval: 29.74, SSIM per interval: 0.7090\n"
     ]
    },
    {
     "name": "stderr",
     "output_type": "stream",
     "text": [
      "Evaluating: 100%|█████████▉| 6005/6025 [02:02<00:00, 48.74it/s]"
     ]
    },
    {
     "name": "stdout",
     "output_type": "stream",
     "text": [
      "RMSE per interval: 0.0344, PSNR per interval: 30.47, SSIM per interval: 0.7518\n"
     ]
    },
    {
     "name": "stderr",
     "output_type": "stream",
     "text": [
      "Evaluating: 100%|██████████| 6025/6025 [02:03<00:00, 48.85it/s]"
     ]
    },
    {
     "name": "stdout",
     "output_type": "stream",
     "text": [
      "Average RMSE over all intervals: 0.039730\n"
     ]
    },
    {
     "name": "stderr",
     "output_type": "stream",
     "text": [
      "\n"
     ]
    }
   ],
   "source": [
    "import torch\n",
    "import torch.nn as nn\n",
    "import numpy as np\n",
    "from skimage.metrics import peak_signal_noise_ratio, structural_similarity\n",
    "from tqdm import tqdm\n",
    "\n",
    "criterion = nn.MSELoss()\n",
    "interval = 1000\n",
    "\n",
    "# 저장된 모델 로드\n",
    "device = torch.device('cuda' if torch.cuda.is_available() else 'cpu')\n",
    "model = RedCNN().to(device)\n",
    "model.load_state_dict(torch.load('red_cnn.pth'))\n",
    "\n",
    "# 평가 지표 계산 추가\n",
    "def calculate_psnr(y_true, y_pred):\n",
    "    \"\"\"PSNR 계산 함수\"\"\"\n",
    "    y_true = y_true.cpu().numpy()\n",
    "    y_pred = y_pred.cpu().numpy()\n",
    "    return peak_signal_noise_ratio(y_true, y_pred, data_range=1.0)  # 정규화된 데이터라면 data_range=1.0\n",
    "\n",
    "def calculate_ssim(y_true, y_pred):\n",
    "    \"\"\"SSIM 계산 함수\"\"\"\n",
    "    y_true = y_true.squeeze(0).cpu().numpy()\n",
    "    y_pred = y_pred.squeeze(0).cpu().numpy()\n",
    "    return structural_similarity(y_true, y_pred, data_range=1.0)  # 정규화된 데이터라면 data_range=1.0\n",
    "\n",
    "# evaluate 부분 + top10 best&worst\n",
    "model.eval()\n",
    "running_loss = 0.0\n",
    "running_psnr = 0.0\n",
    "running_ssim = 0.0\n",
    "psnr_list = []\n",
    "ssim_list = []\n",
    "loss_list = []\n",
    "total_loss = 0\n",
    "best_loss = np.inf\n",
    "worst_loss = -np.inf\n",
    "\n",
    "with torch.no_grad():\n",
    "    for i, data in tqdm(enumerate(test_loader), total=len(test_loader), desc=f\"Evaluating\"):\n",
    "        X, y = data[0].to(device), data[1].to(device)\n",
    "        X_hat = model(X)\n",
    "        mse_loss = criterion(X_hat, y)\n",
    "\n",
    "        # RMSE 계산\n",
    "        rms_loss = torch.sqrt(mse_loss)\n",
    "        running_loss += rms_loss.item()\n",
    "\n",
    "        # PSNR, SSIM 계산\n",
    "        for j in range(X.size(0)):  # 배치 내부 개별 이미지에 대해 계산\n",
    "            psnr = calculate_psnr(y[j, :, :, :], X_hat[j, :, :, :])\n",
    "            ssim = calculate_ssim(y[j, :, :, :], X_hat[j, :, :, :]) \n",
    "            running_psnr += psnr # batch에 대해 더해준다.\n",
    "            running_ssim += ssim\n",
    "\n",
    "        if mse_loss < best_loss:\n",
    "            best_loss = mse_loss\n",
    "            best = (X, y, X_hat)\n",
    "        if mse_loss > worst_loss:\n",
    "            worst_loss = mse_loss\n",
    "            worst = (X, y, X_hat)\n",
    "\n",
    "        if i % interval == interval - 1:\n",
    "            interval_loss = running_loss / interval\n",
    "            interval_psnr = running_psnr / (interval * X.size(0)) # batch에 대해 나눠준다\n",
    "            interval_ssim = running_ssim / (interval * X.size(0))\n",
    "\n",
    "            loss_list.append(interval_loss)\n",
    "            psnr_list.append(interval_psnr)\n",
    "            ssim_list.append(interval_ssim)\n",
    "\n",
    "            total_loss += interval_loss\n",
    "            running_loss = 0.0\n",
    "            running_psnr = 0.0\n",
    "            running_ssim = 0.0\n",
    "            tqdm.write(f'RMSE per interval: {interval_loss:.4f}, PSNR per interval: {interval_psnr:.2f}, SSIM per interval: {interval_ssim:.4f}')\n",
    "            # tqdm.write(f'RMSE per interval: {interval_loss}, PSNR per interval: {interval_psnr}, SSIM per interval: {interval_ssim}')\n",
    "\n",
    "    # 평균 RMSE 출력\n",
    "average_loss = total_loss / len(loss_list)\n",
    "print(f\"Average RMSE over all intervals: {average_loss:.6f}\")"
   ]
  },
  {
   "cell_type": "code",
   "execution_count": 232,
   "metadata": {},
   "outputs": [
    {
     "data": {
      "text/plain": [
       "(6, 6, 6)"
      ]
     },
     "execution_count": 232,
     "metadata": {},
     "output_type": "execute_result"
    }
   ],
   "source": [
    "len(loss_list), len(psnr_list), len(ssim_list)"
   ]
  },
  {
   "cell_type": "code",
   "execution_count": 233,
   "metadata": {},
   "outputs": [
    {
     "data": {
      "text/plain": [
       "[0.04523577140271664,\n",
       " 0.04268875097483397,\n",
       " 0.04291353042889386,\n",
       " 0.0367588047478348,\n",
       " 0.03642563827056438,\n",
       " 0.034357292416505515]"
      ]
     },
     "execution_count": 233,
     "metadata": {},
     "output_type": "execute_result"
    }
   ],
   "source": [
    "rmse_list = loss_list\n",
    "rmse_list"
   ]
  },
  {
   "cell_type": "code",
   "execution_count": 234,
   "metadata": {},
   "outputs": [
    {
     "data": {
      "image/png": "[encoded data removed]",
      "text/plain": [
       "<Figure size 1500x500 with 3 Axes>"
      ]
     },
     "metadata": {},
     "output_type": "display_data"
    }
   ],
   "source": [
    "import numpy as np\n",
    "import matplotlib.pyplot as plt\n",
    "\n",
    "# 각 지표에 대해 6개씩 그룹화하여 평균값 계산\n",
    "rmse_groups = [np.mean(rmse_list[0:2]), np.mean(rmse_list[2:4]), np.mean(rmse_list[4:6])]\n",
    "psnr_groups = [np.mean(psnr_list[0:2]), np.mean(psnr_list[2:4]), np.mean(psnr_list[4:6])]\n",
    "ssim_groups = [np.mean(ssim_list[0:2]), np.mean(ssim_list[2:4]), np.mean(ssim_list[4:6])]\n",
    "\n",
    "# 그룹 인덱스 (1, 2, 3)\n",
    "groups = [1, 2, 3]\n",
    "\n",
    "# 그래프 그리기\n",
    "fig, axs = plt.subplots(1, 3, figsize=(15, 5))\n",
    "\n",
    "# RMSE 그래프\n",
    "axs[0].bar(groups, rmse_groups, color='b')\n",
    "axs[0].set_title('RMSE per Group')\n",
    "axs[0].set_xlabel('Group')\n",
    "axs[0].set_ylabel('RMSE')\n",
    "\n",
    "# PSNR 그래프\n",
    "axs[1].bar(groups, psnr_groups, color='g')\n",
    "axs[1].set_title('PSNR per Group')\n",
    "axs[1].set_xlabel('Group')\n",
    "axs[1].set_ylabel('PSNR')\n",
    "\n",
    "# SSIM 그래프\n",
    "axs[2].bar(groups, ssim_groups, color='r')\n",
    "axs[2].set_title('SSIM per Group')\n",
    "axs[2].set_xlabel('Group')\n",
    "axs[2].set_ylabel('SSIM')\n",
    "\n",
    "# 그래프 레이아웃 조정\n",
    "plt.tight_layout()\n",
    "plt.show()"
   ]
  },
  {
   "cell_type": "code",
   "execution_count": 235,
   "metadata": {},
   "outputs": [
    {
     "name": "stdout",
     "output_type": "stream",
     "text": [
      "RMSE: 0.0397 ± 0.0040\n",
      "PSNR: 29.1317 ± 0.9085\n",
      "SSIM: 0.7119 ± 0.0235\n"
     ]
    }
   ],
   "source": [
    "# 평균(mean)과 표준편차(sd) 계산\n",
    "rmse_mean = np.mean(rmse_list)\n",
    "rmse_sd = np.std(rmse_list)\n",
    "\n",
    "psnr_mean = np.mean(psnr_list)\n",
    "psnr_sd = np.std(psnr_list)\n",
    "\n",
    "ssim_mean = np.mean(ssim_list)\n",
    "ssim_sd = np.std(ssim_list)\n",
    "\n",
    "# 결과를 mean ± sd 형식으로 표현\n",
    "rmse_result = f\"{rmse_mean:.4f} ± {rmse_sd:.4f}\"\n",
    "psnr_result = f\"{psnr_mean:.4f} ± {psnr_sd:.4f}\"\n",
    "ssim_result = f\"{ssim_mean:.4f} ± {ssim_sd:.4f}\"\n",
    "\n",
    "# 결과 출력\n",
    "print(f\"RMSE: {rmse_result}\")\n",
    "print(f\"PSNR: {psnr_result}\")\n",
    "print(f\"SSIM: {ssim_result}\")"
   ]
  },
  {
   "cell_type": "code",
   "execution_count": 236,
   "metadata": {},
   "outputs": [
    {
     "name": "stdout",
     "output_type": "stream",
     "text": [
      "Lists have been saved in the 'unet' folder:\n",
      "- loss_list.npy\n",
      "- psnr_list.npy\n",
      "- ssim_list.npy\n"
     ]
    }
   ],
   "source": [
    "import os\n",
    "import numpy as np\n",
    "\n",
    "# 파일 저장 경로\n",
    "file_names = {\n",
    "    \"loss\": \"loss_list.npy\",\n",
    "    \"psnr\": \"psnr_list.npy\",\n",
    "    \"ssim\": \"ssim_list.npy\"\n",
    "}\n",
    "\n",
    "# 각 리스트를 저장\n",
    "np.save(file_names[\"loss\"], loss_list)\n",
    "np.save(file_names[\"psnr\"], psnr_list)\n",
    "np.save(file_names[\"ssim\"], ssim_list)\n",
    "\n",
    "print(f\"Lists have been saved in the 'unet' folder:\\n- {file_names['loss']}\\n- {file_names['psnr']}\\n- {file_names['ssim']}\")\n"
   ]
  },
  {
   "cell_type": "markdown",
   "metadata": {},
   "source": [
    "# 1-2. REDCNN with C.A."
   ]
  },
  {
   "cell_type": "code",
   "execution_count": 237,
   "metadata": {},
   "outputs": [
    {
     "name": "stdout",
     "output_type": "stream",
     "text": [
      "/root/code/redcnn/base\n"
     ]
    }
   ],
   "source": [
    "!pwd"
   ]
  },
  {
   "cell_type": "code",
   "execution_count": 238,
   "metadata": {},
   "outputs": [
    {
     "name": "stdout",
     "output_type": "stream",
     "text": [
      "/root/code/redcnn/attention_channel\n"
     ]
    }
   ],
   "source": [
    "%cd /root/code/redcnn/attention_channel/"
   ]
  },
  {
   "cell_type": "code",
   "execution_count": 239,
   "metadata": {},
   "outputs": [
    {
     "data": {
      "text/plain": [
       "device(type='cuda')"
      ]
     },
     "execution_count": 239,
     "metadata": {},
     "output_type": "execute_result"
    }
   ],
   "source": [
    "import torch\n",
    "device = torch.device('cuda' if torch.cuda.is_available() else 'cpu')\n",
    "device"
   ]
  },
  {
   "cell_type": "code",
   "execution_count": 240,
   "metadata": {},
   "outputs": [],
   "source": [
    "class SEBlock(nn.Module):\n",
    "    def __init__(self, channels, reduction=16):\n",
    "        super(SEBlock, self).__init__()\n",
    "        self.avg_pool = nn.AdaptiveAvgPool2d(1)\n",
    "        self.fc = nn.Sequential(\n",
    "            nn.Linear(channels, channels // reduction, bias=False),\n",
    "            nn.ReLU(inplace=True),\n",
    "            nn.Linear(channels // reduction, channels, bias=False),\n",
    "            nn.Sigmoid()\n",
    "        )\n",
    "        self.last_attention = None  # 저장된 Attention 값을 위한 변수\n",
    "\n",
    "    def forward(self, x):\n",
    "        batch, channels, _, _ = x.size()\n",
    "        # 채널별 전역 평균 풀링\n",
    "        y = self.avg_pool(x).view(batch, channels)\n",
    "        y = self.fc(y).view(batch, channels, 1, 1)\n",
    "        self.last_attention = y  # 계산된 Attention Weight 저장\n",
    "        return x * y\n"
   ]
  },
  {
   "cell_type": "code",
   "execution_count": 241,
   "metadata": {},
   "outputs": [],
   "source": [
    "class RedCNNWithChannelAttention(nn.Module):\n",
    "    def __init__(self):\n",
    "        super(RedCNNWithChannelAttention, self).__init__()\n",
    "\n",
    "        # 인코더 부분\n",
    "        self.conv1 = nn.Conv2d(1, 96, 5, 1, 0)\n",
    "        self.conv2 = nn.Conv2d(96, 96, 5, 1, 0)\n",
    "        self.conv3 = nn.Conv2d(96, 96, 5, 1, 0)\n",
    "        self.conv4 = nn.Conv2d(96, 96, 5, 1, 0)\n",
    "        self.conv5 = nn.Conv2d(96, 96, 5, 1, 0)\n",
    "\n",
    "        # Attention Blocks (효율적 배치)\n",
    "        self.attention2 = SEBlock(96)  # 중간 계층\n",
    "        self.attention3 = SEBlock(96)  # 고수준 특징 계층\n",
    "\n",
    "        # 디코더 부분\n",
    "        self.deconv1 = nn.ConvTranspose2d(96, 96, 5, 1, 0)\n",
    "        self.deconv2 = nn.ConvTranspose2d(96, 96, 5, 1, 0)\n",
    "        self.deconv3 = nn.ConvTranspose2d(96, 96, 5, 1, 0)\n",
    "        self.deconv4 = nn.ConvTranspose2d(96, 96, 5, 1, 0)\n",
    "        self.deconv_last = nn.ConvTranspose2d(96, 1, 5, 1, 0)\n",
    "\n",
    "        self.relu = nn.ReLU()\n",
    "\n",
    "    def forward(self, x):\n",
    "        # 인코더 부분\n",
    "        residual1 = x\n",
    "        x = self.relu(self.conv1(x))\n",
    "        x = self.relu(self.conv2(x))\n",
    "        residual2 = x\n",
    "        x = self.relu(self.conv3(x))\n",
    "        x = self.attention2(x)  # 중간 계층에 Attention\n",
    "        x = self.relu(self.conv4(x))\n",
    "        residual3 = x\n",
    "        x = self.relu(self.conv5(x))\n",
    "        x = self.attention3(x)  # 최종 인코더 계층에 Attention\n",
    "\n",
    "        # 디코더 부분\n",
    "        x = self.relu(self.deconv1(x) + residual3)\n",
    "        x = self.relu(self.deconv2(x))\n",
    "        x = self.relu(self.deconv3(x) + residual2)\n",
    "        x = self.relu(self.deconv4(x))\n",
    "        x = self.deconv_last(x) + residual1\n",
    "\n",
    "        return x"
   ]
  },
  {
   "cell_type": "code",
   "execution_count": 242,
   "metadata": {},
   "outputs": [
    {
     "name": "stderr",
     "output_type": "stream",
     "text": [
      "Evaluating:  17%|█▋        | 1005/6025 [00:20<01:43, 48.59it/s]"
     ]
    },
    {
     "name": "stdout",
     "output_type": "stream",
     "text": [
      "RMSE per interval: 0.0453, PSNR per interval: 27.72, SSIM per interval: 0.6789\n"
     ]
    },
    {
     "name": "stderr",
     "output_type": "stream",
     "text": [
      "Evaluating:  33%|███▎      | 2005/6025 [00:40<01:22, 48.66it/s]"
     ]
    },
    {
     "name": "stdout",
     "output_type": "stream",
     "text": [
      "RMSE per interval: 0.0427, PSNR per interval: 28.53, SSIM per interval: 0.6947\n"
     ]
    },
    {
     "name": "stderr",
     "output_type": "stream",
     "text": [
      "Evaluating:  50%|████▉     | 3005/6025 [01:01<01:02, 48.69it/s]"
     ]
    },
    {
     "name": "stdout",
     "output_type": "stream",
     "text": [
      "RMSE per interval: 0.0430, PSNR per interval: 28.69, SSIM per interval: 0.7037\n"
     ]
    },
    {
     "name": "stderr",
     "output_type": "stream",
     "text": [
      "Evaluating:  66%|██████▋   | 4005/6025 [01:21<00:41, 48.69it/s]"
     ]
    },
    {
     "name": "stdout",
     "output_type": "stream",
     "text": [
      "RMSE per interval: 0.0367, PSNR per interval: 29.66, SSIM per interval: 0.7306\n"
     ]
    },
    {
     "name": "stderr",
     "output_type": "stream",
     "text": [
      "Evaluating:  83%|████████▎ | 5005/6025 [01:42<00:20, 48.67it/s]"
     ]
    },
    {
     "name": "stdout",
     "output_type": "stream",
     "text": [
      "RMSE per interval: 0.0363, PSNR per interval: 29.79, SSIM per interval: 0.7091\n"
     ]
    },
    {
     "name": "stderr",
     "output_type": "stream",
     "text": [
      "Evaluating: 100%|█████████▉| 6005/6025 [02:02<00:00, 48.67it/s]"
     ]
    },
    {
     "name": "stdout",
     "output_type": "stream",
     "text": [
      "RMSE per interval: 0.0343, PSNR per interval: 30.51, SSIM per interval: 0.7513\n"
     ]
    },
    {
     "name": "stderr",
     "output_type": "stream",
     "text": [
      "Evaluating: 100%|██████████| 6025/6025 [02:02<00:00, 49.03it/s]"
     ]
    },
    {
     "name": "stdout",
     "output_type": "stream",
     "text": [
      "Average RMSE over all intervals: 0.039718\n"
     ]
    },
    {
     "name": "stderr",
     "output_type": "stream",
     "text": [
      "\n"
     ]
    }
   ],
   "source": [
    "import torch\n",
    "import torch.nn as nn\n",
    "import numpy as np\n",
    "from skimage.metrics import peak_signal_noise_ratio, structural_similarity\n",
    "from tqdm import tqdm\n",
    "\n",
    "criterion = nn.MSELoss()\n",
    "interval = 1000\n",
    "\n",
    "# 저장된 모델 로드\n",
    "device = torch.device('cuda' if torch.cuda.is_available() else 'cpu')\n",
    "model = RedCNNWithChannelAttention().to(device)\n",
    "model.load_state_dict(torch.load('red_cnn_C_A.pth'))\n",
    "\n",
    "# 평가 지표 계산 추가\n",
    "def calculate_psnr(y_true, y_pred):\n",
    "    \"\"\"PSNR 계산 함수\"\"\"\n",
    "    y_true = y_true.cpu().numpy()\n",
    "    y_pred = y_pred.cpu().numpy()\n",
    "    return peak_signal_noise_ratio(y_true, y_pred, data_range=1.0)  # 정규화된 데이터라면 data_range=1.0\n",
    "\n",
    "def calculate_ssim(y_true, y_pred):\n",
    "    \"\"\"SSIM 계산 함수\"\"\"\n",
    "    y_true = y_true.squeeze(0).cpu().numpy()\n",
    "    y_pred = y_pred.squeeze(0).cpu().numpy()\n",
    "    return structural_similarity(y_true, y_pred, data_range=1.0)  # 정규화된 데이터라면 data_range=1.0\n",
    "\n",
    "# evaluate 부분 + top10 best&worst\n",
    "model.eval()\n",
    "running_loss = 0.0\n",
    "running_psnr = 0.0\n",
    "running_ssim = 0.0\n",
    "psnr_list = []\n",
    "ssim_list = []\n",
    "loss_list = []\n",
    "total_loss = 0\n",
    "best_loss = np.inf\n",
    "worst_loss = -np.inf\n",
    "\n",
    "with torch.no_grad():\n",
    "    for i, data in tqdm(enumerate(test_loader), total=len(test_loader), desc=f\"Evaluating\"):\n",
    "        X, y = data[0].to(device), data[1].to(device)\n",
    "        X_hat = model(X)\n",
    "        mse_loss = criterion(X_hat, y)\n",
    "\n",
    "        # RMSE 계산\n",
    "        rms_loss = torch.sqrt(mse_loss)\n",
    "        running_loss += rms_loss.item()\n",
    "\n",
    "        # PSNR, SSIM 계산\n",
    "        for j in range(X.size(0)):  # 배치 내부 개별 이미지에 대해 계산\n",
    "            psnr = calculate_psnr(y[j, :, :, :], X_hat[j, :, :, :])\n",
    "            ssim = calculate_ssim(y[j, :, :, :], X_hat[j, :, :, :]) \n",
    "            running_psnr += psnr # batch에 대해 더해준다.\n",
    "            running_ssim += ssim\n",
    "\n",
    "        if mse_loss < best_loss:\n",
    "            best_loss = mse_loss\n",
    "            best = (X, y, X_hat)\n",
    "        if mse_loss > worst_loss:\n",
    "            worst_loss = mse_loss\n",
    "            worst = (X, y, X_hat)\n",
    "\n",
    "        if i % interval == interval - 1:\n",
    "            interval_loss = running_loss / interval\n",
    "            interval_psnr = running_psnr / (interval * X.size(0)) # batch에 대해 나눠준다\n",
    "            interval_ssim = running_ssim / (interval * X.size(0))\n",
    "\n",
    "            loss_list.append(interval_loss)\n",
    "            psnr_list.append(interval_psnr)\n",
    "            ssim_list.append(interval_ssim)\n",
    "\n",
    "            total_loss += interval_loss\n",
    "            running_loss = 0.0\n",
    "            running_psnr = 0.0\n",
    "            running_ssim = 0.0\n",
    "            tqdm.write(f'RMSE per interval: {interval_loss:.4f}, PSNR per interval: {interval_psnr:.2f}, SSIM per interval: {interval_ssim:.4f}')\n",
    "            # tqdm.write(f'RMSE per interval: {interval_loss}, PSNR per interval: {interval_psnr}, SSIM per interval: {interval_ssim}')\n",
    "\n",
    "    # 평균 RMSE 출력\n",
    "average_loss = total_loss / len(loss_list)\n",
    "print(f\"Average RMSE over all intervals: {average_loss:.6f}\")"
   ]
  },
  {
   "cell_type": "code",
   "execution_count": 243,
   "metadata": {},
   "outputs": [
    {
     "data": {
      "text/plain": [
       "(6, 6, 6)"
      ]
     },
     "execution_count": 243,
     "metadata": {},
     "output_type": "execute_result"
    }
   ],
   "source": [
    "len(loss_list), len(psnr_list), len(ssim_list)"
   ]
  },
  {
   "cell_type": "code",
   "execution_count": 244,
   "metadata": {},
   "outputs": [
    {
     "data": {
      "text/plain": [
       "[0.04529176481999457,\n",
       " 0.04269160277023912,\n",
       " 0.04295010657887906,\n",
       " 0.03672503125481307,\n",
       " 0.03630090566817671,\n",
       " 0.03434676932264119]"
      ]
     },
     "execution_count": 244,
     "metadata": {},
     "output_type": "execute_result"
    }
   ],
   "source": [
    "rmse_list = loss_list\n",
    "rmse_list"
   ]
  },
  {
   "cell_type": "code",
   "execution_count": 245,
   "metadata": {},
   "outputs": [
    {
     "data": {
      "image/png": "[encoded data removed]",
      "text/plain": [
       "<Figure size 1500x500 with 3 Axes>"
      ]
     },
     "metadata": {},
     "output_type": "display_data"
    }
   ],
   "source": [
    "import numpy as np\n",
    "import matplotlib.pyplot as plt\n",
    "\n",
    "# 각 지표에 대해 6개씩 그룹화하여 평균값 계산\n",
    "rmse_groups = [np.mean(rmse_list[0:2]), np.mean(rmse_list[2:4]), np.mean(rmse_list[4:6])]\n",
    "psnr_groups = [np.mean(psnr_list[0:2]), np.mean(psnr_list[2:4]), np.mean(psnr_list[4:6])]\n",
    "ssim_groups = [np.mean(ssim_list[0:2]), np.mean(ssim_list[2:4]), np.mean(ssim_list[4:6])]\n",
    "\n",
    "# 그룹 인덱스 (1, 2, 3)\n",
    "groups = [1, 2, 3]\n",
    "\n",
    "# 그래프 그리기\n",
    "fig, axs = plt.subplots(1, 3, figsize=(15, 5))\n",
    "\n",
    "# RMSE 그래프\n",
    "axs[0].bar(groups, rmse_groups, color='b')\n",
    "axs[0].set_title('RMSE per Group')\n",
    "axs[0].set_xlabel('Group')\n",
    "axs[0].set_ylabel('RMSE')\n",
    "\n",
    "# PSNR 그래프\n",
    "axs[1].bar(groups, psnr_groups, color='g')\n",
    "axs[1].set_title('PSNR per Group')\n",
    "axs[1].set_xlabel('Group')\n",
    "axs[1].set_ylabel('PSNR')\n",
    "\n",
    "# SSIM 그래프\n",
    "axs[2].bar(groups, ssim_groups, color='r')\n",
    "axs[2].set_title('SSIM per Group')\n",
    "axs[2].set_xlabel('Group')\n",
    "axs[2].set_ylabel('SSIM')\n",
    "\n",
    "# 그래프 레이아웃 조정\n",
    "plt.tight_layout()\n",
    "plt.show()"
   ]
  },
  {
   "cell_type": "code",
   "execution_count": 246,
   "metadata": {},
   "outputs": [
    {
     "name": "stdout",
     "output_type": "stream",
     "text": [
      "RMSE: 0.0397 ± 0.0041\n",
      "PSNR: 29.1518 ± 0.9279\n",
      "SSIM: 0.7114 ± 0.0237\n"
     ]
    }
   ],
   "source": [
    "# 평균(mean)과 표준편차(sd) 계산\n",
    "rmse_mean = np.mean(rmse_list)\n",
    "rmse_sd = np.std(rmse_list)\n",
    "\n",
    "psnr_mean = np.mean(psnr_list)\n",
    "psnr_sd = np.std(psnr_list)\n",
    "\n",
    "ssim_mean = np.mean(ssim_list)\n",
    "ssim_sd = np.std(ssim_list)\n",
    "\n",
    "# 결과를 mean ± sd 형식으로 표현\n",
    "rmse_result = f\"{rmse_mean:.4f} ± {rmse_sd:.4f}\"\n",
    "psnr_result = f\"{psnr_mean:.4f} ± {psnr_sd:.4f}\"\n",
    "ssim_result = f\"{ssim_mean:.4f} ± {ssim_sd:.4f}\"\n",
    "\n",
    "# 결과 출력\n",
    "print(f\"RMSE: {rmse_result}\")\n",
    "print(f\"PSNR: {psnr_result}\")\n",
    "print(f\"SSIM: {ssim_result}\")"
   ]
  },
  {
   "cell_type": "code",
   "execution_count": 247,
   "metadata": {},
   "outputs": [
    {
     "name": "stdout",
     "output_type": "stream",
     "text": [
      "Lists have been saved in the 'unet' folder:\n",
      "- loss_list.npy\n",
      "- psnr_list.npy\n",
      "- ssim_list.npy\n"
     ]
    }
   ],
   "source": [
    "import os\n",
    "import numpy as np\n",
    "\n",
    "# 파일 저장 경로\n",
    "file_names = {\n",
    "    \"loss\": \"loss_list.npy\",\n",
    "    \"psnr\": \"psnr_list.npy\",\n",
    "    \"ssim\": \"ssim_list.npy\"\n",
    "}\n",
    "\n",
    "# 각 리스트를 저장\n",
    "np.save(file_names[\"loss\"], loss_list)\n",
    "np.save(file_names[\"psnr\"], psnr_list)\n",
    "np.save(file_names[\"ssim\"], ssim_list)\n",
    "\n",
    "print(f\"Lists have been saved in the 'unet' folder:\\n- {file_names['loss']}\\n- {file_names['psnr']}\\n- {file_names['ssim']}\")\n"
   ]
  },
  {
   "cell_type": "markdown",
   "metadata": {},
   "source": [
    "# 1-3. REDCNN with S.A."
   ]
  },
  {
   "cell_type": "code",
   "execution_count": 248,
   "metadata": {},
   "outputs": [
    {
     "name": "stdout",
     "output_type": "stream",
     "text": [
      "/root/code/redcnn/attention_channel\n"
     ]
    }
   ],
   "source": [
    "!pwd"
   ]
  },
  {
   "cell_type": "code",
   "execution_count": 249,
   "metadata": {},
   "outputs": [
    {
     "name": "stdout",
     "output_type": "stream",
     "text": [
      "/root/code/redcnn/attention_spatial\n"
     ]
    }
   ],
   "source": [
    "%cd /root/code/redcnn/attention_spatial/"
   ]
  },
  {
   "cell_type": "code",
   "execution_count": 250,
   "metadata": {},
   "outputs": [
    {
     "data": {
      "text/plain": [
       "device(type='cuda')"
      ]
     },
     "execution_count": 250,
     "metadata": {},
     "output_type": "execute_result"
    }
   ],
   "source": [
    "import torch\n",
    "device = torch.device('cuda' if torch.cuda.is_available() else 'cpu')\n",
    "device"
   ]
  },
  {
   "cell_type": "code",
   "execution_count": 251,
   "metadata": {},
   "outputs": [],
   "source": [
    "import torch\n",
    "import torch.nn as nn\n",
    "\n",
    "class SpatialAttention(nn.Module):\n",
    "    def __init__(self, kernel_size=7):\n",
    "        super(SpatialAttention, self).__init__()\n",
    "        assert kernel_size in (3, 7), \"Kernel size must be 3 or 7\"\n",
    "        padding = (kernel_size - 1) // 2 # 동일한 크기를 유지하기 위한 패딩\n",
    "        self.conv = nn.Conv2d(2, 1, kernel_size=kernel_size, padding=padding, bias=False)\n",
    "        self.sigmoid = nn.Sigmoid()\n",
    "        self.last_attention = None  # Attention 값을 저장하는 변수\n",
    "\n",
    "    def forward(self, x):\n",
    "        # 채널 차원을 압축 (Max Pooling과 Average Pooling)\n",
    "        avg_out = torch.mean(x, dim=1, keepdim=True) # Average pooling\n",
    "        max_out, _ = torch.max(x, dim=1, keepdim=True) # Max pooling\n",
    "        combined = torch.cat([avg_out, max_out], dim=1) # 채널 차원에서 결합\n",
    "        # 2D Convolution 적용\n",
    "        attention = self.sigmoid(self.conv(combined)) # [B, 1, H, W]\n",
    "        self.last_attention = attention  # Attention 값을 저장\n",
    "        return x * attention"
   ]
  },
  {
   "cell_type": "code",
   "execution_count": 252,
   "metadata": {},
   "outputs": [],
   "source": [
    "class RedCNNWithSpatialAttention(nn.Module):\n",
    "    def __init__(self):\n",
    "        super(RedCNNWithSpatialAttention, self).__init__()\n",
    "\n",
    "        # 인코더 부분\n",
    "        self.conv1 = nn.Conv2d(1, 96, 5, 1, 0)\n",
    "        self.conv2 = nn.Conv2d(96, 96, 5, 1, 0)\n",
    "        self.conv3 = nn.Conv2d(96, 96, 5, 1, 0)\n",
    "        self.conv4 = nn.Conv2d(96, 96, 5, 1, 0)\n",
    "        self.conv5 = nn.Conv2d(96, 96, 5, 1, 0)\n",
    "\n",
    "        # Spatial Attention Blocks\n",
    "        self.spatial_attention3 = SpatialAttention()\n",
    "        self.spatial_attention5 = SpatialAttention()\n",
    "\n",
    "        # 디코더 부분\n",
    "        self.deconv1 = nn.ConvTranspose2d(96, 96, 5, 1, 0)\n",
    "        self.deconv2 = nn.ConvTranspose2d(96, 96, 5, 1, 0)\n",
    "        self.deconv3 = nn.ConvTranspose2d(96, 96, 5, 1, 0)\n",
    "        self.deconv4 = nn.ConvTranspose2d(96, 96, 5, 1, 0)\n",
    "        self.deconv_last = nn.ConvTranspose2d(96, 1, 5, 1, 0)\n",
    "\n",
    "        self.relu = nn.ReLU()\n",
    "\n",
    "    def forward(self, x):\n",
    "        # 인코더 부분\n",
    "        residual1 = x\n",
    "        x = self.relu(self.conv1(x))\n",
    "        x = self.relu(self.conv2(x))\n",
    "        residual2 = x\n",
    "        x = self.relu(self.conv3(x))\n",
    "        x = self.spatial_attention3(x)  # Spatial Attention (3번째 위치)\n",
    "        x = self.relu(self.conv4(x))\n",
    "        residual3 = x\n",
    "        x = self.relu(self.conv5(x))\n",
    "        x = self.spatial_attention5(x)  # Spatial Attention (5번째 위치)\n",
    "\n",
    "        # 디코더 부분\n",
    "        x = self.relu(self.deconv1(x) + residual3)\n",
    "        x = self.relu(self.deconv2(x))\n",
    "        x = self.relu(self.deconv3(x) + residual2)\n",
    "        x = self.relu(self.deconv4(x))\n",
    "        x = self.deconv_last(x) + residual1\n",
    "\n",
    "        return x"
   ]
  },
  {
   "cell_type": "code",
   "execution_count": 253,
   "metadata": {},
   "outputs": [
    {
     "name": "stderr",
     "output_type": "stream",
     "text": [
      "Evaluating:  17%|█▋        | 1005/6025 [00:20<01:44, 48.25it/s]"
     ]
    },
    {
     "name": "stdout",
     "output_type": "stream",
     "text": [
      "RMSE per interval: 0.0453, PSNR per interval: 27.71, SSIM per interval: 0.6801\n"
     ]
    },
    {
     "name": "stderr",
     "output_type": "stream",
     "text": [
      "Evaluating:  33%|███▎      | 2005/6025 [00:41<01:23, 48.15it/s]"
     ]
    },
    {
     "name": "stdout",
     "output_type": "stream",
     "text": [
      "RMSE per interval: 0.0427, PSNR per interval: 28.50, SSIM per interval: 0.6960\n"
     ]
    },
    {
     "name": "stderr",
     "output_type": "stream",
     "text": [
      "Evaluating:  50%|████▉     | 3005/6025 [01:01<01:02, 48.24it/s]"
     ]
    },
    {
     "name": "stdout",
     "output_type": "stream",
     "text": [
      "RMSE per interval: 0.0430, PSNR per interval: 28.66, SSIM per interval: 0.7050\n"
     ]
    },
    {
     "name": "stderr",
     "output_type": "stream",
     "text": [
      "Evaluating:  66%|██████▋   | 4005/6025 [01:22<00:41, 48.30it/s]"
     ]
    },
    {
     "name": "stdout",
     "output_type": "stream",
     "text": [
      "RMSE per interval: 0.0369, PSNR per interval: 29.63, SSIM per interval: 0.7305\n"
     ]
    },
    {
     "name": "stderr",
     "output_type": "stream",
     "text": [
      "Evaluating:  83%|████████▎ | 5005/6025 [01:42<00:21, 48.29it/s]"
     ]
    },
    {
     "name": "stdout",
     "output_type": "stream",
     "text": [
      "RMSE per interval: 0.0365, PSNR per interval: 29.73, SSIM per interval: 0.7089\n"
     ]
    },
    {
     "name": "stderr",
     "output_type": "stream",
     "text": [
      "Evaluating: 100%|█████████▉| 6005/6025 [02:03<00:00, 48.30it/s]"
     ]
    },
    {
     "name": "stdout",
     "output_type": "stream",
     "text": [
      "RMSE per interval: 0.0344, PSNR per interval: 30.47, SSIM per interval: 0.7518\n"
     ]
    },
    {
     "name": "stderr",
     "output_type": "stream",
     "text": [
      "Evaluating: 100%|██████████| 6025/6025 [02:03<00:00, 48.64it/s]"
     ]
    },
    {
     "name": "stdout",
     "output_type": "stream",
     "text": [
      "Average RMSE over all intervals: 0.039808\n"
     ]
    },
    {
     "name": "stderr",
     "output_type": "stream",
     "text": [
      "\n"
     ]
    }
   ],
   "source": [
    "import torch\n",
    "import torch.nn as nn\n",
    "import numpy as np\n",
    "from skimage.metrics import peak_signal_noise_ratio, structural_similarity\n",
    "from tqdm import tqdm\n",
    "\n",
    "criterion = nn.MSELoss()\n",
    "interval = 1000\n",
    "\n",
    "# 저장된 모델 로드\n",
    "device = torch.device('cuda' if torch.cuda.is_available() else 'cpu')\n",
    "model = RedCNNWithSpatialAttention().to(device)\n",
    "model.load_state_dict(torch.load('red_cnn_S_A.pth'))\n",
    "\n",
    "# 평가 지표 계산 추가\n",
    "def calculate_psnr(y_true, y_pred):\n",
    "    \"\"\"PSNR 계산 함수\"\"\"\n",
    "    y_true = y_true.cpu().numpy()\n",
    "    y_pred = y_pred.cpu().numpy()\n",
    "    return peak_signal_noise_ratio(y_true, y_pred, data_range=1.0)  # 정규화된 데이터라면 data_range=1.0\n",
    "\n",
    "def calculate_ssim(y_true, y_pred):\n",
    "    \"\"\"SSIM 계산 함수\"\"\"\n",
    "    y_true = y_true.squeeze(0).cpu().numpy()\n",
    "    y_pred = y_pred.squeeze(0).cpu().numpy()\n",
    "    return structural_similarity(y_true, y_pred, data_range=1.0)  # 정규화된 데이터라면 data_range=1.0\n",
    "\n",
    "# evaluate 부분 + top10 best&worst\n",
    "model.eval()\n",
    "running_loss = 0.0\n",
    "running_psnr = 0.0\n",
    "running_ssim = 0.0\n",
    "psnr_list = []\n",
    "ssim_list = []\n",
    "loss_list = []\n",
    "total_loss = 0\n",
    "best_loss = np.inf\n",
    "worst_loss = -np.inf\n",
    "\n",
    "with torch.no_grad():\n",
    "    for i, data in tqdm(enumerate(test_loader), total=len(test_loader), desc=f\"Evaluating\"):\n",
    "        X, y = data[0].to(device), data[1].to(device)\n",
    "        X_hat = model(X)\n",
    "        mse_loss = criterion(X_hat, y)\n",
    "\n",
    "        # RMSE 계산\n",
    "        rms_loss = torch.sqrt(mse_loss)\n",
    "        running_loss += rms_loss.item()\n",
    "\n",
    "        # PSNR, SSIM 계산\n",
    "        for j in range(X.size(0)):  # 배치 내부 개별 이미지에 대해 계산\n",
    "            psnr = calculate_psnr(y[j, :, :, :], X_hat[j, :, :, :])\n",
    "            ssim = calculate_ssim(y[j, :, :, :], X_hat[j, :, :, :]) \n",
    "            running_psnr += psnr # batch에 대해 더해준다.\n",
    "            running_ssim += ssim\n",
    "\n",
    "        if mse_loss < best_loss:\n",
    "            best_loss = mse_loss\n",
    "            best = (X, y, X_hat)\n",
    "        if mse_loss > worst_loss:\n",
    "            worst_loss = mse_loss\n",
    "            worst = (X, y, X_hat)\n",
    "\n",
    "        if i % interval == interval - 1:\n",
    "            interval_loss = running_loss / interval\n",
    "            interval_psnr = running_psnr / (interval * X.size(0)) # batch에 대해 나눠준다\n",
    "            interval_ssim = running_ssim / (interval * X.size(0))\n",
    "\n",
    "            loss_list.append(interval_loss)\n",
    "            psnr_list.append(interval_psnr)\n",
    "            ssim_list.append(interval_ssim)\n",
    "\n",
    "            total_loss += interval_loss\n",
    "            running_loss = 0.0\n",
    "            running_psnr = 0.0\n",
    "            running_ssim = 0.0\n",
    "            tqdm.write(f'RMSE per interval: {interval_loss:.4f}, PSNR per interval: {interval_psnr:.2f}, SSIM per interval: {interval_ssim:.4f}')\n",
    "            # tqdm.write(f'RMSE per interval: {interval_loss}, PSNR per interval: {interval_psnr}, SSIM per interval: {interval_ssim}')\n",
    "\n",
    "    # 평균 RMSE 출력\n",
    "average_loss = total_loss / len(loss_list)\n",
    "print(f\"Average RMSE over all intervals: {average_loss:.6f}\")"
   ]
  },
  {
   "cell_type": "code",
   "execution_count": 254,
   "metadata": {},
   "outputs": [
    {
     "data": {
      "text/plain": [
       "(6, 6, 6)"
      ]
     },
     "execution_count": 254,
     "metadata": {},
     "output_type": "execute_result"
    }
   ],
   "source": [
    "len(loss_list), len(psnr_list), len(ssim_list)"
   ]
  },
  {
   "cell_type": "code",
   "execution_count": 255,
   "metadata": {},
   "outputs": [
    {
     "data": {
      "text/plain": [
       "[0.045342756735160944,\n",
       " 0.042749563889577985,\n",
       " 0.043015779936686156,\n",
       " 0.036852610416710375,\n",
       " 0.03648667409364134,\n",
       " 0.034399629756808284]"
      ]
     },
     "execution_count": 255,
     "metadata": {},
     "output_type": "execute_result"
    }
   ],
   "source": [
    "rmse_list = loss_list\n",
    "rmse_list"
   ]
  },
  {
   "cell_type": "code",
   "execution_count": 256,
   "metadata": {},
   "outputs": [
    {
     "data": {
      "image/png": "[encoded data removed]",
      "text/plain": [
       "<Figure size 1500x500 with 3 Axes>"
      ]
     },
     "metadata": {},
     "output_type": "display_data"
    }
   ],
   "source": [
    "import numpy as np\n",
    "import matplotlib.pyplot as plt\n",
    "\n",
    "# 각 지표에 대해 6개씩 그룹화하여 평균값 계산\n",
    "rmse_groups = [np.mean(rmse_list[0:2]), np.mean(rmse_list[2:4]), np.mean(rmse_list[4:6])]\n",
    "psnr_groups = [np.mean(psnr_list[0:2]), np.mean(psnr_list[2:4]), np.mean(psnr_list[4:6])]\n",
    "ssim_groups = [np.mean(ssim_list[0:2]), np.mean(ssim_list[2:4]), np.mean(ssim_list[4:6])]\n",
    "\n",
    "# 그룹 인덱스 (1, 2, 3)\n",
    "groups = [1, 2, 3]\n",
    "\n",
    "# 그래프 그리기\n",
    "fig, axs = plt.subplots(1, 3, figsize=(15, 5))\n",
    "\n",
    "# RMSE 그래프\n",
    "axs[0].bar(groups, rmse_groups, color='b')\n",
    "axs[0].set_title('RMSE per Group')\n",
    "axs[0].set_xlabel('Group')\n",
    "axs[0].set_ylabel('RMSE')\n",
    "\n",
    "# PSNR 그래프\n",
    "axs[1].bar(groups, psnr_groups, color='g')\n",
    "axs[1].set_title('PSNR per Group')\n",
    "axs[1].set_xlabel('Group')\n",
    "axs[1].set_ylabel('PSNR')\n",
    "\n",
    "# SSIM 그래프\n",
    "axs[2].bar(groups, ssim_groups, color='r')\n",
    "axs[2].set_title('SSIM per Group')\n",
    "axs[2].set_xlabel('Group')\n",
    "axs[2].set_ylabel('SSIM')\n",
    "\n",
    "# 그래프 레이아웃 조정\n",
    "plt.tight_layout()\n",
    "plt.show()"
   ]
  },
  {
   "cell_type": "code",
   "execution_count": 257,
   "metadata": {},
   "outputs": [
    {
     "name": "stdout",
     "output_type": "stream",
     "text": [
      "RMSE: 0.0398 ± 0.0041\n",
      "PSNR: 29.1163 ± 0.9152\n",
      "SSIM: 0.7121 ± 0.0233\n"
     ]
    }
   ],
   "source": [
    "# 평균(mean)과 표준편차(sd) 계산\n",
    "rmse_mean = np.mean(rmse_list)\n",
    "rmse_sd = np.std(rmse_list)\n",
    "\n",
    "psnr_mean = np.mean(psnr_list)\n",
    "psnr_sd = np.std(psnr_list)\n",
    "\n",
    "ssim_mean = np.mean(ssim_list)\n",
    "ssim_sd = np.std(ssim_list)\n",
    "\n",
    "# 결과를 mean ± sd 형식으로 표현\n",
    "rmse_result = f\"{rmse_mean:.4f} ± {rmse_sd:.4f}\"\n",
    "psnr_result = f\"{psnr_mean:.4f} ± {psnr_sd:.4f}\"\n",
    "ssim_result = f\"{ssim_mean:.4f} ± {ssim_sd:.4f}\"\n",
    "\n",
    "# 결과 출력\n",
    "print(f\"RMSE: {rmse_result}\")\n",
    "print(f\"PSNR: {psnr_result}\")\n",
    "print(f\"SSIM: {ssim_result}\")"
   ]
  },
  {
   "cell_type": "code",
   "execution_count": 258,
   "metadata": {},
   "outputs": [
    {
     "name": "stdout",
     "output_type": "stream",
     "text": [
      "Lists have been saved in the 'unet' folder:\n",
      "- loss_list.npy\n",
      "- psnr_list.npy\n",
      "- ssim_list.npy\n"
     ]
    }
   ],
   "source": [
    "import os\n",
    "import numpy as np\n",
    "\n",
    "# 파일 저장 경로\n",
    "file_names = {\n",
    "    \"loss\": \"loss_list.npy\",\n",
    "    \"psnr\": \"psnr_list.npy\",\n",
    "    \"ssim\": \"ssim_list.npy\"\n",
    "}\n",
    "\n",
    "# 각 리스트를 저장\n",
    "np.save(file_names[\"loss\"], loss_list)\n",
    "np.save(file_names[\"psnr\"], psnr_list)\n",
    "np.save(file_names[\"ssim\"], ssim_list)\n",
    "\n",
    "print(f\"Lists have been saved in the 'unet' folder:\\n- {file_names['loss']}\\n- {file_names['psnr']}\\n- {file_names['ssim']}\")\n"
   ]
  },
  {
   "cell_type": "markdown",
   "metadata": {},
   "source": [
    "# 2. UNet"
   ]
  },
  {
   "cell_type": "code",
   "execution_count": 259,
   "metadata": {},
   "outputs": [
    {
     "name": "stdout",
     "output_type": "stream",
     "text": [
      "/root/code/redcnn/attention_spatial\n"
     ]
    }
   ],
   "source": [
    "!pwd"
   ]
  },
  {
   "cell_type": "code",
   "execution_count": 260,
   "metadata": {},
   "outputs": [
    {
     "name": "stdout",
     "output_type": "stream",
     "text": [
      "/root/code/unet/base\n"
     ]
    }
   ],
   "source": [
    "%cd /root/code/unet/base"
   ]
  },
  {
   "cell_type": "code",
   "execution_count": 261,
   "metadata": {},
   "outputs": [
    {
     "data": {
      "text/plain": [
       "device(type='cuda')"
      ]
     },
     "execution_count": 261,
     "metadata": {},
     "output_type": "execute_result"
    }
   ],
   "source": [
    "import torch\n",
    "device = torch.device('cuda' if torch.cuda.is_available() else 'cpu')\n",
    "device"
   ]
  },
  {
   "cell_type": "code",
   "execution_count": 262,
   "metadata": {},
   "outputs": [],
   "source": [
    "import torch\n",
    "import torch.nn as nn\n",
    "import torch.nn.functional as F\n",
    "\n",
    "class UNet(nn.Module):\n",
    "    def __init__(self, in_channels=1, out_channels=1, features=[64, 128, 256, 512]):\n",
    "        super(UNet, self).__init__()\n",
    "\n",
    "        # 1. encoder 부분\n",
    "        self.encoder = nn.ModuleList()\n",
    "        # 2. decoder 부분\n",
    "        self.decoder = nn.ModuleList()\n",
    "        \n",
    "        # Encoder: Down-sampling path\n",
    "        for feature in features:\n",
    "            self.encoder.append(self.conv_block(in_channels, feature)) # (1,64),(64,128),...,(256,512)\n",
    "            in_channels = feature\n",
    "        \n",
    "        # Bottleneck\n",
    "        self.bottleneck = self.conv_block(features[-1], features[-1] * 2) # ConvTranspose2d\n",
    "        \n",
    "        # Decoder: Up-sampling path\n",
    "        for feature in reversed(features): # (512,256),...,(128,64)\n",
    "            # encoder에서는 max_pool을 했지만, decoder에서는 max,mean도 아닌 그냥 conv를 이용해 사이즈를 pool의 반대로 만든다.\n",
    "            self.decoder.append(nn.ConvTranspose2d(feature * 2, feature, kernel_size=2, stride=2))\n",
    "            self.decoder.append(self.conv_block(feature * 2, feature))\n",
    "        \n",
    "        # Final Convolution to match output channels\n",
    "        self.final_conv = nn.Conv2d(features[0], out_channels, kernel_size=1) # 64->1, 1x1-Conv\n",
    "\n",
    "    def forward(self, x):\n",
    "        enc_outputs = []\n",
    "        \n",
    "        # Encoder path\n",
    "        for layer in self.encoder:\n",
    "            x = layer(x)\n",
    "            enc_outputs.append(x)\n",
    "            x = F.max_pool2d(x, kernel_size=2, stride=2) # feature map 사이즈를 절반으로 줄인다.\n",
    "        \n",
    "        # Bottleneck\n",
    "        x = self.bottleneck(x) # 512 -> 1024\n",
    "        \n",
    "        # Decoder path\n",
    "        for idx in range(0, len(self.decoder), 2): # 0,2,4 <- max-pool의 결과가 아닌 conv의 결과만 가져오기위해\n",
    "            x = self.decoder[idx](x)  # Upsample\n",
    "            enc_output = enc_outputs[-(idx // 2) - 1]  # Skip connection; -1,-2,-3\n",
    "            x = F.interpolate(x, size=enc_output.shape[2:], mode='bilinear', align_corners=False) # encoder와 사이즈를 동일하게 맞춘다.\n",
    "            # input 사이즈가 2의 제곱수가 아니기 때문에 넣어주어야한다.\n",
    "            x = torch.cat((enc_output, x), dim=1)  # Concatenate encoder output\n",
    "            x = self.decoder[idx + 1](x)  # Convolution after concatenation\n",
    "        \n",
    "        return self.final_conv(x)\n",
    "    \n",
    "    def conv_block(self, in_channels, out_channels):\n",
    "        return nn.Sequential(\n",
    "            nn.Conv2d(in_channels, out_channels, kernel_size=3, padding=1), # feature map 사이즈 유지\n",
    "            # nn.BatchNorm2d(out_channels),  # Add normalization for stability\n",
    "            nn.ReLU(inplace=True),\n",
    "            nn.Conv2d(out_channels, out_channels, kernel_size=3, padding=1),\n",
    "            # nn.BatchNorm2d(out_channels),  # Add normalization for stability\n",
    "            nn.ReLU(inplace=True)\n",
    "        )"
   ]
  },
  {
   "cell_type": "code",
   "execution_count": 263,
   "metadata": {},
   "outputs": [
    {
     "name": "stderr",
     "output_type": "stream",
     "text": [
      "Evaluating:  17%|█▋        | 1005/6025 [00:20<01:44, 48.00it/s]"
     ]
    },
    {
     "name": "stdout",
     "output_type": "stream",
     "text": [
      "RMSE per interval: 0.0462, PSNR per interval: 27.54, SSIM per interval: 0.6764\n"
     ]
    },
    {
     "name": "stderr",
     "output_type": "stream",
     "text": [
      "Evaluating:  33%|███▎      | 2005/6025 [00:41<01:23, 47.94it/s]"
     ]
    },
    {
     "name": "stdout",
     "output_type": "stream",
     "text": [
      "RMSE per interval: 0.0434, PSNR per interval: 28.33, SSIM per interval: 0.6921\n"
     ]
    },
    {
     "name": "stderr",
     "output_type": "stream",
     "text": [
      "Evaluating:  50%|████▉     | 3005/6025 [01:02<01:03, 47.88it/s]"
     ]
    },
    {
     "name": "stdout",
     "output_type": "stream",
     "text": [
      "RMSE per interval: 0.0440, PSNR per interval: 28.39, SSIM per interval: 0.7006\n"
     ]
    },
    {
     "name": "stderr",
     "output_type": "stream",
     "text": [
      "Evaluating:  66%|██████▋   | 4005/6025 [01:22<00:42, 47.98it/s]"
     ]
    },
    {
     "name": "stdout",
     "output_type": "stream",
     "text": [
      "RMSE per interval: 0.0377, PSNR per interval: 29.38, SSIM per interval: 0.7263\n"
     ]
    },
    {
     "name": "stderr",
     "output_type": "stream",
     "text": [
      "Evaluating:  83%|████████▎ | 5005/6025 [01:43<00:21, 47.96it/s]"
     ]
    },
    {
     "name": "stdout",
     "output_type": "stream",
     "text": [
      "RMSE per interval: 0.0372, PSNR per interval: 29.52, SSIM per interval: 0.7056\n"
     ]
    },
    {
     "name": "stderr",
     "output_type": "stream",
     "text": [
      "Evaluating: 100%|█████████▉| 6005/6025 [02:04<00:00, 47.94it/s]"
     ]
    },
    {
     "name": "stdout",
     "output_type": "stream",
     "text": [
      "RMSE per interval: 0.0350, PSNR per interval: 30.26, SSIM per interval: 0.7486\n"
     ]
    },
    {
     "name": "stderr",
     "output_type": "stream",
     "text": [
      "Evaluating: 100%|██████████| 6025/6025 [02:04<00:00, 48.34it/s]"
     ]
    },
    {
     "name": "stdout",
     "output_type": "stream",
     "text": [
      "Average RMSE over all intervals: 0.040575\n"
     ]
    },
    {
     "name": "stderr",
     "output_type": "stream",
     "text": [
      "\n"
     ]
    }
   ],
   "source": [
    "import torch\n",
    "import torch.nn as nn\n",
    "import numpy as np\n",
    "from skimage.metrics import peak_signal_noise_ratio, structural_similarity\n",
    "from tqdm import tqdm\n",
    "\n",
    "criterion = nn.MSELoss()\n",
    "interval = 1000\n",
    "\n",
    "# 저장된 모델 로드\n",
    "device = torch.device('cuda' if torch.cuda.is_available() else 'cpu')\n",
    "model = UNet().to(device)\n",
    "model.load_state_dict(torch.load('unet.pth'))\n",
    "\n",
    "# 평가 지표 계산 추가\n",
    "def calculate_psnr(y_true, y_pred):\n",
    "    \"\"\"PSNR 계산 함수\"\"\"\n",
    "    y_true = y_true.cpu().numpy()\n",
    "    y_pred = y_pred.cpu().numpy()\n",
    "    return peak_signal_noise_ratio(y_true, y_pred, data_range=1.0)  # 정규화된 데이터라면 data_range=1.0\n",
    "\n",
    "def calculate_ssim(y_true, y_pred):\n",
    "    \"\"\"SSIM 계산 함수\"\"\"\n",
    "    y_true = y_true.squeeze(0).cpu().numpy()\n",
    "    y_pred = y_pred.squeeze(0).cpu().numpy()\n",
    "    return structural_similarity(y_true, y_pred, data_range=1.0)  # 정규화된 데이터라면 data_range=1.0\n",
    "\n",
    "# evaluate 부분 + top10 best&worst\n",
    "model.eval()\n",
    "running_loss = 0.0\n",
    "running_psnr = 0.0\n",
    "running_ssim = 0.0\n",
    "psnr_list = []\n",
    "ssim_list = []\n",
    "loss_list = []\n",
    "total_loss = 0\n",
    "best_loss = np.inf\n",
    "worst_loss = -np.inf\n",
    "\n",
    "with torch.no_grad():\n",
    "    for i, data in tqdm(enumerate(test_loader), total=len(test_loader), desc=f\"Evaluating\"):\n",
    "        X, y = data[0].to(device), data[1].to(device)\n",
    "        X_hat = model(X)\n",
    "        mse_loss = criterion(X_hat, y)\n",
    "\n",
    "        # RMSE 계산\n",
    "        rms_loss = torch.sqrt(mse_loss)\n",
    "        running_loss += rms_loss.item()\n",
    "\n",
    "        # PSNR, SSIM 계산\n",
    "        for j in range(X.size(0)):  # 배치 내부 개별 이미지에 대해 계산\n",
    "            psnr = calculate_psnr(y[j, :, :, :], X_hat[j, :, :, :])\n",
    "            ssim = calculate_ssim(y[j, :, :, :], X_hat[j, :, :, :]) \n",
    "            running_psnr += psnr # batch에 대해 더해준다.\n",
    "            running_ssim += ssim\n",
    "\n",
    "        if mse_loss < best_loss:\n",
    "            best_loss = mse_loss\n",
    "            best = (X, y, X_hat)\n",
    "        if mse_loss > worst_loss:\n",
    "            worst_loss = mse_loss\n",
    "            worst = (X, y, X_hat)\n",
    "\n",
    "        if i % interval == interval - 1:\n",
    "            interval_loss = running_loss / interval\n",
    "            interval_psnr = running_psnr / (interval * X.size(0)) # batch에 대해 나눠준다\n",
    "            interval_ssim = running_ssim / (interval * X.size(0))\n",
    "\n",
    "            loss_list.append(interval_loss)\n",
    "            psnr_list.append(interval_psnr)\n",
    "            ssim_list.append(interval_ssim)\n",
    "\n",
    "            total_loss += interval_loss\n",
    "            running_loss = 0.0\n",
    "            running_psnr = 0.0\n",
    "            running_ssim = 0.0\n",
    "            tqdm.write(f'RMSE per interval: {interval_loss:.4f}, PSNR per interval: {interval_psnr:.2f}, SSIM per interval: {interval_ssim:.4f}')\n",
    "            # tqdm.write(f'RMSE per interval: {interval_loss}, PSNR per interval: {interval_psnr}, SSIM per interval: {interval_ssim}')\n",
    "\n",
    "    # 평균 RMSE 출력\n",
    "average_loss = total_loss / len(loss_list)\n",
    "print(f\"Average RMSE over all intervals: {average_loss:.6f}\")"
   ]
  },
  {
   "cell_type": "code",
   "execution_count": 264,
   "metadata": {},
   "outputs": [
    {
     "data": {
      "text/plain": [
       "(6, 6, 6)"
      ]
     },
     "execution_count": 264,
     "metadata": {},
     "output_type": "execute_result"
    }
   ],
   "source": [
    "len(loss_list), len(psnr_list), len(ssim_list)"
   ]
  },
  {
   "cell_type": "code",
   "execution_count": 265,
   "metadata": {},
   "outputs": [
    {
     "data": {
      "text/plain": [
       "[0.0461745982542634,\n",
       " 0.043381837336346506,\n",
       " 0.04399286542739719,\n",
       " 0.0377488510273397,\n",
       " 0.03718932415451855,\n",
       " 0.034965296996757385]"
      ]
     },
     "execution_count": 265,
     "metadata": {},
     "output_type": "execute_result"
    }
   ],
   "source": [
    "rmse_list = loss_list\n",
    "rmse_list"
   ]
  },
  {
   "cell_type": "code",
   "execution_count": 266,
   "metadata": {},
   "outputs": [
    {
     "data": {
      "image/png": "[encoded data removed]",
      "text/plain": [
       "<Figure size 1500x500 with 3 Axes>"
      ]
     },
     "metadata": {},
     "output_type": "display_data"
    }
   ],
   "source": [
    "import numpy as np\n",
    "import matplotlib.pyplot as plt\n",
    "\n",
    "# 각 지표에 대해 6개씩 그룹화하여 평균값 계산\n",
    "rmse_groups = [np.mean(rmse_list[0:2]), np.mean(rmse_list[2:4]), np.mean(rmse_list[4:6])]\n",
    "psnr_groups = [np.mean(psnr_list[0:2]), np.mean(psnr_list[2:4]), np.mean(psnr_list[4:6])]\n",
    "ssim_groups = [np.mean(ssim_list[0:2]), np.mean(ssim_list[2:4]), np.mean(ssim_list[4:6])]\n",
    "\n",
    "# 그룹 인덱스 (1, 2, 3)\n",
    "groups = [1, 2, 3]\n",
    "\n",
    "# 그래프 그리기\n",
    "fig, axs = plt.subplots(1, 3, figsize=(15, 5))\n",
    "\n",
    "# RMSE 그래프\n",
    "axs[0].bar(groups, rmse_groups, color='b')\n",
    "axs[0].set_title('RMSE per Group')\n",
    "axs[0].set_xlabel('Group')\n",
    "axs[0].set_ylabel('RMSE')\n",
    "\n",
    "# PSNR 그래프\n",
    "axs[1].bar(groups, psnr_groups, color='g')\n",
    "axs[1].set_title('PSNR per Group')\n",
    "axs[1].set_xlabel('Group')\n",
    "axs[1].set_ylabel('PSNR')\n",
    "\n",
    "# SSIM 그래프\n",
    "axs[2].bar(groups, ssim_groups, color='r')\n",
    "axs[2].set_title('SSIM per Group')\n",
    "axs[2].set_xlabel('Group')\n",
    "axs[2].set_ylabel('SSIM')\n",
    "\n",
    "# 그래프 레이아웃 조정\n",
    "plt.tight_layout()\n",
    "plt.show()"
   ]
  },
  {
   "cell_type": "code",
   "execution_count": 267,
   "metadata": {},
   "outputs": [
    {
     "name": "stdout",
     "output_type": "stream",
     "text": [
      "RMSE: 0.0406 ± 0.0041\n",
      "PSNR: 28.9032 ± 0.9015\n",
      "SSIM: 0.7083 ± 0.0234\n"
     ]
    }
   ],
   "source": [
    "# 평균(mean)과 표준편차(sd) 계산\n",
    "rmse_mean = np.mean(rmse_list)\n",
    "rmse_sd = np.std(rmse_list)\n",
    "\n",
    "psnr_mean = np.mean(psnr_list)\n",
    "psnr_sd = np.std(psnr_list)\n",
    "\n",
    "ssim_mean = np.mean(ssim_list)\n",
    "ssim_sd = np.std(ssim_list)\n",
    "\n",
    "# 결과를 mean ± sd 형식으로 표현\n",
    "rmse_result = f\"{rmse_mean:.4f} ± {rmse_sd:.4f}\"\n",
    "psnr_result = f\"{psnr_mean:.4f} ± {psnr_sd:.4f}\"\n",
    "ssim_result = f\"{ssim_mean:.4f} ± {ssim_sd:.4f}\"\n",
    "\n",
    "# 결과 출력\n",
    "print(f\"RMSE: {rmse_result}\")\n",
    "print(f\"PSNR: {psnr_result}\")\n",
    "print(f\"SSIM: {ssim_result}\")"
   ]
  },
  {
   "cell_type": "code",
   "execution_count": 268,
   "metadata": {},
   "outputs": [
    {
     "name": "stdout",
     "output_type": "stream",
     "text": [
      "Lists have been saved in the 'unet' folder:\n",
      "- loss_list.npy\n",
      "- psnr_list.npy\n",
      "- ssim_list.npy\n"
     ]
    }
   ],
   "source": [
    "import os\n",
    "import numpy as np\n",
    "\n",
    "# 파일 저장 경로\n",
    "file_names = {\n",
    "    \"loss\": \"loss_list.npy\",\n",
    "    \"psnr\": \"psnr_list.npy\",\n",
    "    \"ssim\": \"ssim_list.npy\"\n",
    "}\n",
    "\n",
    "# 각 리스트를 저장\n",
    "np.save(file_names[\"loss\"], loss_list)\n",
    "np.save(file_names[\"psnr\"], psnr_list)\n",
    "np.save(file_names[\"ssim\"], ssim_list)\n",
    "\n",
    "print(f\"Lists have been saved in the 'unet' folder:\\n- {file_names['loss']}\\n- {file_names['psnr']}\\n- {file_names['ssim']}\")\n"
   ]
  },
  {
   "cell_type": "markdown",
   "metadata": {},
   "source": [
    "# 2-2. UNet with C.A."
   ]
  },
  {
   "cell_type": "code",
   "execution_count": 269,
   "metadata": {},
   "outputs": [
    {
     "name": "stdout",
     "output_type": "stream",
     "text": [
      "/root/code/unet/base\n"
     ]
    }
   ],
   "source": [
    "!pwd"
   ]
  },
  {
   "cell_type": "code",
   "execution_count": 270,
   "metadata": {},
   "outputs": [
    {
     "name": "stdout",
     "output_type": "stream",
     "text": [
      "/root/code/unet/attention_channel\n"
     ]
    }
   ],
   "source": [
    "%cd /root/code/unet/attention_channel/"
   ]
  },
  {
   "cell_type": "code",
   "execution_count": 271,
   "metadata": {},
   "outputs": [
    {
     "data": {
      "text/plain": [
       "device(type='cuda')"
      ]
     },
     "execution_count": 271,
     "metadata": {},
     "output_type": "execute_result"
    }
   ],
   "source": [
    "import torch\n",
    "device = torch.device('cuda' if torch.cuda.is_available() else 'cpu')\n",
    "device"
   ]
  },
  {
   "cell_type": "code",
   "execution_count": 272,
   "metadata": {},
   "outputs": [],
   "source": [
    "class SEBlock(nn.Module):\n",
    "    def __init__(self, channels, reduction=16):\n",
    "        super(SEBlock, self).__init__()\n",
    "        self.avg_pool = nn.AdaptiveAvgPool2d(1)\n",
    "        self.fc = nn.Sequential(\n",
    "            nn.Linear(channels, channels // reduction, bias=False),\n",
    "            nn.ReLU(inplace=True),\n",
    "            nn.Linear(channels // reduction, channels, bias=False),\n",
    "            nn.Sigmoid()\n",
    "        )\n",
    "        self.last_attention = None  # 저장된 Attention 값을 위한 변수\n",
    "\n",
    "    def forward(self, x):\n",
    "        batch, channels, _, _ = x.size()\n",
    "        # 채널별 전역 평균 풀링\n",
    "        y = self.avg_pool(x).view(batch, channels)\n",
    "        y = self.fc(y).view(batch, channels, 1, 1)\n",
    "        self.last_attention = y  # 계산된 Attention Weight 저장\n",
    "        return x * y\n"
   ]
  },
  {
   "cell_type": "code",
   "execution_count": 273,
   "metadata": {},
   "outputs": [],
   "source": [
    "import torch\n",
    "import torch.nn as nn\n",
    "import torch.nn.functional as F\n",
    "\n",
    "\n",
    "# UNet with Selective Channel Attention\n",
    "class UNetWithChannelAttention(nn.Module):\n",
    "    def __init__(self, in_channels=1, out_channels=1, features=[64, 128, 256, 512], reduction=16):\n",
    "        super(UNetWithChannelAttention, self).__init__()\n",
    "\n",
    "        self.encoder = nn.ModuleList()\n",
    "        self.decoder = nn.ModuleList()\n",
    "        self.attention_blocks = nn.ModuleList()\n",
    "\n",
    "        # Encoder Path\n",
    "        for idx, feature in enumerate(features):\n",
    "            self.encoder.append(self.conv_block(in_channels, feature))\n",
    "            if idx in [1, 3]:  # Attention 적용 위치\n",
    "                self.attention_blocks.append(SEBlock(feature, reduction=reduction))\n",
    "            else:\n",
    "                self.attention_blocks.append(nn.Identity())  # Placeholder로 nn.Identity 사용\n",
    "            in_channels = feature\n",
    "\n",
    "        # Bottleneck\n",
    "        self.bottleneck = self.conv_block(features[-1], features[-1] * 2)\n",
    "\n",
    "        # Decoder Path\n",
    "        for feature in reversed(features):\n",
    "            self.decoder.append(nn.ConvTranspose2d(feature * 2, feature, kernel_size=2, stride=2))\n",
    "            self.decoder.append(self.conv_block(feature * 2, feature))\n",
    "\n",
    "        # Final Convolution\n",
    "        self.final_conv = nn.Conv2d(features[0], out_channels, kernel_size=1)\n",
    "\n",
    "    def forward(self, x):\n",
    "        enc_outputs = []\n",
    "\n",
    "        # Encoder Path\n",
    "        for idx, layer in enumerate(self.encoder):\n",
    "            x = layer(x)\n",
    "            x = self.attention_blocks[idx](x)  # Attention 적용\n",
    "            enc_outputs.append(x)\n",
    "            x = F.max_pool2d(x, kernel_size=2, stride=2)\n",
    "\n",
    "        # Bottleneck\n",
    "        x = self.bottleneck(x)\n",
    "\n",
    "        # Decoder Path\n",
    "        for idx in range(0, len(self.decoder), 2):\n",
    "            x = self.decoder[idx](x)  # Upsample\n",
    "            enc_output = enc_outputs[-(idx // 2) - 1]  # Skip connection\n",
    "            x = F.interpolate(x, size=enc_output.shape[2:], mode='bilinear', align_corners=False)\n",
    "            x = torch.cat((enc_output, x), dim=1)  # Concatenate\n",
    "            x = self.decoder[idx + 1](x)  # Convolution after concatenation\n",
    "\n",
    "        return self.final_conv(x)\n",
    "\n",
    "    def conv_block(self, in_channels, out_channels):\n",
    "        return nn.Sequential(\n",
    "            nn.Conv2d(in_channels, out_channels, kernel_size=3, padding=1),\n",
    "            nn.BatchNorm2d(out_channels),\n",
    "            nn.ReLU(inplace=True),\n",
    "            nn.Conv2d(out_channels, out_channels, kernel_size=3, padding=1),\n",
    "            nn.BatchNorm2d(out_channels),\n",
    "            nn.ReLU(inplace=True)\n",
    "        )\n"
   ]
  },
  {
   "cell_type": "code",
   "execution_count": 274,
   "metadata": {},
   "outputs": [
    {
     "name": "stderr",
     "output_type": "stream",
     "text": [
      "Evaluating:  17%|█▋        | 1005/6025 [00:21<01:49, 45.82it/s]"
     ]
    },
    {
     "name": "stdout",
     "output_type": "stream",
     "text": [
      "RMSE per interval: 0.0468, PSNR per interval: 27.39, SSIM per interval: 0.6736\n"
     ]
    },
    {
     "name": "stderr",
     "output_type": "stream",
     "text": [
      "Evaluating:  33%|███▎      | 2005/6025 [00:43<01:27, 45.79it/s]"
     ]
    },
    {
     "name": "stdout",
     "output_type": "stream",
     "text": [
      "RMSE per interval: 0.0447, PSNR per interval: 28.01, SSIM per interval: 0.6911\n"
     ]
    },
    {
     "name": "stderr",
     "output_type": "stream",
     "text": [
      "Evaluating:  50%|████▉     | 3005/6025 [01:05<01:05, 45.80it/s]"
     ]
    },
    {
     "name": "stdout",
     "output_type": "stream",
     "text": [
      "RMSE per interval: 0.0450, PSNR per interval: 28.07, SSIM per interval: 0.7002\n"
     ]
    },
    {
     "name": "stderr",
     "output_type": "stream",
     "text": [
      "Evaluating:  66%|██████▋   | 4005/6025 [01:26<00:44, 45.79it/s]"
     ]
    },
    {
     "name": "stdout",
     "output_type": "stream",
     "text": [
      "RMSE per interval: 0.0392, PSNR per interval: 28.98, SSIM per interval: 0.7252\n"
     ]
    },
    {
     "name": "stderr",
     "output_type": "stream",
     "text": [
      "Evaluating:  83%|████████▎ | 5005/6025 [01:48<00:22, 45.83it/s]"
     ]
    },
    {
     "name": "stdout",
     "output_type": "stream",
     "text": [
      "RMSE per interval: 0.0388, PSNR per interval: 29.09, SSIM per interval: 0.7037\n"
     ]
    },
    {
     "name": "stderr",
     "output_type": "stream",
     "text": [
      "Evaluating: 100%|█████████▉| 6005/6025 [02:10<00:00, 45.19it/s]"
     ]
    },
    {
     "name": "stdout",
     "output_type": "stream",
     "text": [
      "RMSE per interval: 0.0363, PSNR per interval: 29.85, SSIM per interval: 0.7461\n"
     ]
    },
    {
     "name": "stderr",
     "output_type": "stream",
     "text": [
      "Evaluating: 100%|██████████| 6025/6025 [02:10<00:00, 46.13it/s]"
     ]
    },
    {
     "name": "stdout",
     "output_type": "stream",
     "text": [
      "Average RMSE over all intervals: 0.041804\n"
     ]
    },
    {
     "name": "stderr",
     "output_type": "stream",
     "text": [
      "\n"
     ]
    }
   ],
   "source": [
    "import torch\n",
    "import torch.nn as nn\n",
    "import numpy as np\n",
    "from skimage.metrics import peak_signal_noise_ratio, structural_similarity\n",
    "from tqdm import tqdm\n",
    "\n",
    "criterion = nn.MSELoss()\n",
    "interval = 1000\n",
    "\n",
    "# 저장된 모델 로드\n",
    "device = torch.device('cuda' if torch.cuda.is_available() else 'cpu')\n",
    "model = UNetWithChannelAttention().to(device)\n",
    "model.load_state_dict(torch.load('unet_C_A.pth'))\n",
    "\n",
    "# 평가 지표 계산 추가\n",
    "def calculate_psnr(y_true, y_pred):\n",
    "    \"\"\"PSNR 계산 함수\"\"\"\n",
    "    y_true = y_true.cpu().numpy()\n",
    "    y_pred = y_pred.cpu().numpy()\n",
    "    return peak_signal_noise_ratio(y_true, y_pred, data_range=1.0)  # 정규화된 데이터라면 data_range=1.0\n",
    "\n",
    "def calculate_ssim(y_true, y_pred):\n",
    "    \"\"\"SSIM 계산 함수\"\"\"\n",
    "    y_true = y_true.squeeze(0).cpu().numpy()\n",
    "    y_pred = y_pred.squeeze(0).cpu().numpy()\n",
    "    return structural_similarity(y_true, y_pred, data_range=1.0)  # 정규화된 데이터라면 data_range=1.0\n",
    "\n",
    "# evaluate 부분 + top10 best&worst\n",
    "model.eval()\n",
    "running_loss = 0.0\n",
    "running_psnr = 0.0\n",
    "running_ssim = 0.0\n",
    "psnr_list = []\n",
    "ssim_list = []\n",
    "loss_list = []\n",
    "total_loss = 0\n",
    "best_loss = np.inf\n",
    "worst_loss = -np.inf\n",
    "\n",
    "with torch.no_grad():\n",
    "    for i, data in tqdm(enumerate(test_loader), total=len(test_loader), desc=f\"Evaluating\"):\n",
    "        X, y = data[0].to(device), data[1].to(device)\n",
    "        X_hat = model(X)\n",
    "        mse_loss = criterion(X_hat, y)\n",
    "\n",
    "        # RMSE 계산\n",
    "        rms_loss = torch.sqrt(mse_loss)\n",
    "        running_loss += rms_loss.item()\n",
    "\n",
    "        # PSNR, SSIM 계산\n",
    "        for j in range(X.size(0)):  # 배치 내부 개별 이미지에 대해 계산\n",
    "            psnr = calculate_psnr(y[j, :, :, :], X_hat[j, :, :, :])\n",
    "            ssim = calculate_ssim(y[j, :, :, :], X_hat[j, :, :, :]) \n",
    "            running_psnr += psnr # batch에 대해 더해준다.\n",
    "            running_ssim += ssim\n",
    "\n",
    "        if mse_loss < best_loss:\n",
    "            best_loss = mse_loss\n",
    "            best = (X, y, X_hat)\n",
    "        if mse_loss > worst_loss:\n",
    "            worst_loss = mse_loss\n",
    "            worst = (X, y, X_hat)\n",
    "\n",
    "        if i % interval == interval - 1:\n",
    "            interval_loss = running_loss / interval\n",
    "            interval_psnr = running_psnr / (interval * X.size(0)) # batch에 대해 나눠준다\n",
    "            interval_ssim = running_ssim / (interval * X.size(0))\n",
    "\n",
    "            loss_list.append(interval_loss)\n",
    "            psnr_list.append(interval_psnr)\n",
    "            ssim_list.append(interval_ssim)\n",
    "\n",
    "            total_loss += interval_loss\n",
    "            running_loss = 0.0\n",
    "            running_psnr = 0.0\n",
    "            running_ssim = 0.0\n",
    "            tqdm.write(f'RMSE per interval: {interval_loss:.4f}, PSNR per interval: {interval_psnr:.2f}, SSIM per interval: {interval_ssim:.4f}')\n",
    "            # tqdm.write(f'RMSE per interval: {interval_loss}, PSNR per interval: {interval_psnr}, SSIM per interval: {interval_ssim}')\n",
    "\n",
    "    # 평균 RMSE 출력\n",
    "average_loss = total_loss / len(loss_list)\n",
    "print(f\"Average RMSE over all intervals: {average_loss:.6f}\")"
   ]
  },
  {
   "cell_type": "code",
   "execution_count": 275,
   "metadata": {},
   "outputs": [
    {
     "data": {
      "text/plain": [
       "(6, 6, 6)"
      ]
     },
     "execution_count": 275,
     "metadata": {},
     "output_type": "execute_result"
    }
   ],
   "source": [
    "len(loss_list), len(psnr_list), len(ssim_list)"
   ]
  },
  {
   "cell_type": "code",
   "execution_count": 276,
   "metadata": {},
   "outputs": [],
   "source": [
    "rmse_list = loss_list"
   ]
  },
  {
   "cell_type": "code",
   "execution_count": 277,
   "metadata": {},
   "outputs": [
    {
     "data": {
      "image/png": "[encoded data removed]",
      "text/plain": [
       "<Figure size 1500x500 with 3 Axes>"
      ]
     },
     "metadata": {},
     "output_type": "display_data"
    }
   ],
   "source": [
    "import numpy as np\n",
    "import matplotlib.pyplot as plt\n",
    "\n",
    "# 각 지표에 대해 6개씩 그룹화하여 평균값 계산\n",
    "rmse_groups = [np.mean(rmse_list[0:2]), np.mean(rmse_list[2:4]), np.mean(rmse_list[4:6])]\n",
    "psnr_groups = [np.mean(psnr_list[0:2]), np.mean(psnr_list[2:4]), np.mean(psnr_list[4:6])]\n",
    "ssim_groups = [np.mean(ssim_list[0:2]), np.mean(ssim_list[2:4]), np.mean(ssim_list[4:6])]\n",
    "\n",
    "# 그룹 인덱스 (1, 2, 3)\n",
    "groups = [1, 2, 3]\n",
    "\n",
    "# 그래프 그리기\n",
    "fig, axs = plt.subplots(1, 3, figsize=(15, 5))\n",
    "\n",
    "# RMSE 그래프\n",
    "axs[0].bar(groups, rmse_groups, color='b')\n",
    "axs[0].set_title('RMSE per Group')\n",
    "axs[0].set_xlabel('Group')\n",
    "axs[0].set_ylabel('RMSE')\n",
    "\n",
    "# PSNR 그래프\n",
    "axs[1].bar(groups, psnr_groups, color='g')\n",
    "axs[1].set_title('PSNR per Group')\n",
    "axs[1].set_xlabel('Group')\n",
    "axs[1].set_ylabel('PSNR')\n",
    "\n",
    "# SSIM 그래프\n",
    "axs[2].bar(groups, ssim_groups, color='r')\n",
    "axs[2].set_title('SSIM per Group')\n",
    "axs[2].set_xlabel('Group')\n",
    "axs[2].set_ylabel('SSIM')\n",
    "\n",
    "# 그래프 레이아웃 조정\n",
    "plt.tight_layout()\n",
    "plt.show()"
   ]
  },
  {
   "cell_type": "code",
   "execution_count": 278,
   "metadata": {},
   "outputs": [
    {
     "name": "stdout",
     "output_type": "stream",
     "text": [
      "RMSE: 0.0418 ± 0.0039\n",
      "PSNR: 28.5650 ± 0.8190\n",
      "SSIM: 0.7066 ± 0.0234\n"
     ]
    }
   ],
   "source": [
    "# 평균(mean)과 표준편차(sd) 계산\n",
    "rmse_mean = np.mean(rmse_list)\n",
    "rmse_sd = np.std(rmse_list)\n",
    "\n",
    "psnr_mean = np.mean(psnr_list)\n",
    "psnr_sd = np.std(psnr_list)\n",
    "\n",
    "ssim_mean = np.mean(ssim_list)\n",
    "ssim_sd = np.std(ssim_list)\n",
    "\n",
    "# 결과를 mean ± sd 형식으로 표현\n",
    "rmse_result = f\"{rmse_mean:.4f} ± {rmse_sd:.4f}\"\n",
    "psnr_result = f\"{psnr_mean:.4f} ± {psnr_sd:.4f}\"\n",
    "ssim_result = f\"{ssim_mean:.4f} ± {ssim_sd:.4f}\"\n",
    "\n",
    "# 결과 출력\n",
    "print(f\"RMSE: {rmse_result}\")\n",
    "print(f\"PSNR: {psnr_result}\")\n",
    "print(f\"SSIM: {ssim_result}\")"
   ]
  },
  {
   "cell_type": "code",
   "execution_count": 279,
   "metadata": {},
   "outputs": [
    {
     "name": "stdout",
     "output_type": "stream",
     "text": [
      "Lists have been saved in the 'unet' folder:\n",
      "- loss_list.npy\n",
      "- psnr_list.npy\n",
      "- ssim_list.npy\n"
     ]
    }
   ],
   "source": [
    "import os\n",
    "import numpy as np\n",
    "\n",
    "# 파일 저장 경로\n",
    "file_names = {\n",
    "    \"loss\": \"loss_list.npy\",\n",
    "    \"psnr\": \"psnr_list.npy\",\n",
    "    \"ssim\": \"ssim_list.npy\"\n",
    "}\n",
    "\n",
    "# 각 리스트를 저장\n",
    "np.save(file_names[\"loss\"], loss_list)\n",
    "np.save(file_names[\"psnr\"], psnr_list)\n",
    "np.save(file_names[\"ssim\"], ssim_list)\n",
    "\n",
    "print(f\"Lists have been saved in the 'unet' folder:\\n- {file_names['loss']}\\n- {file_names['psnr']}\\n- {file_names['ssim']}\")\n"
   ]
  },
  {
   "cell_type": "markdown",
   "metadata": {},
   "source": [
    "# 2-3. UNet with S.A."
   ]
  },
  {
   "cell_type": "code",
   "execution_count": 280,
   "metadata": {},
   "outputs": [
    {
     "name": "stdout",
     "output_type": "stream",
     "text": [
      "/root/code/unet/attention_channel\n"
     ]
    }
   ],
   "source": [
    "!pwd"
   ]
  },
  {
   "cell_type": "code",
   "execution_count": 281,
   "metadata": {},
   "outputs": [
    {
     "name": "stdout",
     "output_type": "stream",
     "text": [
      "/root/code/unet/attention_spatial\n"
     ]
    }
   ],
   "source": [
    "%cd /root/code/unet/attention_spatial/"
   ]
  },
  {
   "cell_type": "code",
   "execution_count": 282,
   "metadata": {},
   "outputs": [
    {
     "data": {
      "text/plain": [
       "device(type='cuda')"
      ]
     },
     "execution_count": 282,
     "metadata": {},
     "output_type": "execute_result"
    }
   ],
   "source": [
    "import torch\n",
    "device = torch.device('cuda' if torch.cuda.is_available() else 'cpu')\n",
    "device"
   ]
  },
  {
   "cell_type": "code",
   "execution_count": 283,
   "metadata": {},
   "outputs": [],
   "source": [
    "import torch\n",
    "import torch.nn as nn\n",
    "\n",
    "class SpatialAttention(nn.Module):\n",
    "    def __init__(self, kernel_size=7):\n",
    "        super(SpatialAttention, self).__init__()\n",
    "        assert kernel_size in (3, 7), \"Kernel size must be 3 or 7\"\n",
    "        padding = (kernel_size - 1) // 2 # 동일한 크기를 유지하기 위한 패딩\n",
    "        self.conv = nn.Conv2d(2, 1, kernel_size=kernel_size, padding=padding, bias=False)\n",
    "        self.sigmoid = nn.Sigmoid()\n",
    "        self.last_attention = None  # Attention 값을 저장하는 변수\n",
    "\n",
    "    def forward(self, x):\n",
    "        # 채널 차원을 압축 (Max Pooling과 Average Pooling)\n",
    "        avg_out = torch.mean(x, dim=1, keepdim=True) # Average pooling\n",
    "        max_out, _ = torch.max(x, dim=1, keepdim=True) # Max pooling\n",
    "        combined = torch.cat([avg_out, max_out], dim=1) # 채널 차원에서 결합\n",
    "        # 2D Convolution 적용\n",
    "        attention = self.sigmoid(self.conv(combined)) # [B, 1, H, W]\n",
    "        self.last_attention = attention  # Attention 값을 저장\n",
    "        return x * attention"
   ]
  },
  {
   "cell_type": "code",
   "execution_count": 284,
   "metadata": {},
   "outputs": [],
   "source": [
    "import torch\n",
    "import torch.nn as nn\n",
    "import torch.nn.functional as F\n",
    "\n",
    "\n",
    "# UNet with Selective Channel Attention\n",
    "class UNetWithSpatialAttention(nn.Module):\n",
    "    def __init__(self, in_channels=1, out_channels=1, features=[64, 128, 256, 512], reduction=16):\n",
    "        super(UNetWithSpatialAttention, self).__init__()\n",
    "\n",
    "        self.encoder = nn.ModuleList()\n",
    "        self.decoder = nn.ModuleList()\n",
    "        self.attention_blocks = nn.ModuleList()\n",
    "\n",
    "        # Encoder Path\n",
    "        for idx, feature in enumerate(features):\n",
    "            self.encoder.append(self.conv_block(in_channels, feature))\n",
    "            if idx in [1, 3]:  # Attention 적용 위치\n",
    "                self.attention_blocks.append(SpatialAttention())\n",
    "            else:\n",
    "                self.attention_blocks.append(nn.Identity())  # Placeholder로 nn.Identity 사용\n",
    "            in_channels = feature\n",
    "\n",
    "        # Bottleneck\n",
    "        self.bottleneck = self.conv_block(features[-1], features[-1] * 2)\n",
    "\n",
    "        # Decoder Path\n",
    "        for feature in reversed(features):\n",
    "            self.decoder.append(nn.ConvTranspose2d(feature * 2, feature, kernel_size=2, stride=2))\n",
    "            self.decoder.append(self.conv_block(feature * 2, feature))\n",
    "\n",
    "        # Final Convolution\n",
    "        self.final_conv = nn.Conv2d(features[0], out_channels, kernel_size=1)\n",
    "\n",
    "    def forward(self, x):\n",
    "        enc_outputs = []\n",
    "\n",
    "        # Encoder Path\n",
    "        for idx, layer in enumerate(self.encoder):\n",
    "            x = layer(x)\n",
    "            x = self.attention_blocks[idx](x)  # Attention 적용\n",
    "            enc_outputs.append(x)\n",
    "            x = F.max_pool2d(x, kernel_size=2, stride=2)\n",
    "\n",
    "        # Bottleneck\n",
    "        x = self.bottleneck(x)\n",
    "\n",
    "        # Decoder Path\n",
    "        for idx in range(0, len(self.decoder), 2):\n",
    "            x = self.decoder[idx](x)  # Upsample\n",
    "            enc_output = enc_outputs[-(idx // 2) - 1]  # Skip connection\n",
    "            x = F.interpolate(x, size=enc_output.shape[2:], mode='bilinear', align_corners=False)\n",
    "            x = torch.cat((enc_output, x), dim=1)  # Concatenate\n",
    "            x = self.decoder[idx + 1](x)  # Convolution after concatenation\n",
    "\n",
    "        return self.final_conv(x)\n",
    "\n",
    "    def conv_block(self, in_channels, out_channels):\n",
    "        return nn.Sequential(\n",
    "            nn.Conv2d(in_channels, out_channels, kernel_size=3, padding=1),\n",
    "            nn.BatchNorm2d(out_channels),\n",
    "            nn.ReLU(inplace=True),\n",
    "            nn.Conv2d(out_channels, out_channels, kernel_size=3, padding=1),\n",
    "            nn.BatchNorm2d(out_channels),\n",
    "            nn.ReLU(inplace=True)\n",
    "        )\n"
   ]
  },
  {
   "cell_type": "code",
   "execution_count": 285,
   "metadata": {},
   "outputs": [
    {
     "name": "stderr",
     "output_type": "stream",
     "text": [
      "Evaluating:  17%|█▋        | 1005/6025 [00:21<01:49, 45.65it/s]"
     ]
    },
    {
     "name": "stdout",
     "output_type": "stream",
     "text": [
      "RMSE per interval: 0.0480, PSNR per interval: 27.14, SSIM per interval: 0.6699\n"
     ]
    },
    {
     "name": "stderr",
     "output_type": "stream",
     "text": [
      "Evaluating:  33%|███▎      | 2005/6025 [00:43<01:28, 45.58it/s]"
     ]
    },
    {
     "name": "stdout",
     "output_type": "stream",
     "text": [
      "RMSE per interval: 0.0456, PSNR per interval: 27.77, SSIM per interval: 0.6843\n"
     ]
    },
    {
     "name": "stderr",
     "output_type": "stream",
     "text": [
      "Evaluating:  50%|████▉     | 3005/6025 [01:05<01:06, 45.65it/s]"
     ]
    },
    {
     "name": "stdout",
     "output_type": "stream",
     "text": [
      "RMSE per interval: 0.0460, PSNR per interval: 27.85, SSIM per interval: 0.6938\n"
     ]
    },
    {
     "name": "stderr",
     "output_type": "stream",
     "text": [
      "Evaluating:  66%|██████▋   | 4005/6025 [01:27<00:44, 45.66it/s]"
     ]
    },
    {
     "name": "stdout",
     "output_type": "stream",
     "text": [
      "RMSE per interval: 0.0399, PSNR per interval: 28.74, SSIM per interval: 0.7172\n"
     ]
    },
    {
     "name": "stderr",
     "output_type": "stream",
     "text": [
      "Evaluating:  83%|████████▎ | 5005/6025 [01:48<00:22, 45.59it/s]"
     ]
    },
    {
     "name": "stdout",
     "output_type": "stream",
     "text": [
      "RMSE per interval: 0.0397, PSNR per interval: 28.84, SSIM per interval: 0.6959\n"
     ]
    },
    {
     "name": "stderr",
     "output_type": "stream",
     "text": [
      "Evaluating: 100%|█████████▉| 6005/6025 [02:10<00:00, 45.59it/s]"
     ]
    },
    {
     "name": "stdout",
     "output_type": "stream",
     "text": [
      "RMSE per interval: 0.0378, PSNR per interval: 29.47, SSIM per interval: 0.7392\n"
     ]
    },
    {
     "name": "stderr",
     "output_type": "stream",
     "text": [
      "Evaluating: 100%|██████████| 6025/6025 [02:11<00:00, 45.95it/s]"
     ]
    },
    {
     "name": "stdout",
     "output_type": "stream",
     "text": [
      "Average RMSE over all intervals: 0.042816\n"
     ]
    },
    {
     "name": "stderr",
     "output_type": "stream",
     "text": [
      "\n"
     ]
    }
   ],
   "source": [
    "import torch\n",
    "import torch.nn as nn\n",
    "import numpy as np\n",
    "from skimage.metrics import peak_signal_noise_ratio, structural_similarity\n",
    "from tqdm import tqdm\n",
    "\n",
    "criterion = nn.MSELoss()\n",
    "interval = 1000\n",
    "\n",
    "# 저장된 모델 로드\n",
    "device = torch.device('cuda' if torch.cuda.is_available() else 'cpu')\n",
    "model = UNetWithSpatialAttention().to(device)\n",
    "model.load_state_dict(torch.load('unet_S_A.pth'))\n",
    "\n",
    "# 평가 지표 계산 추가\n",
    "def calculate_psnr(y_true, y_pred):\n",
    "    \"\"\"PSNR 계산 함수\"\"\"\n",
    "    y_true = y_true.cpu().numpy()\n",
    "    y_pred = y_pred.cpu().numpy()\n",
    "    return peak_signal_noise_ratio(y_true, y_pred, data_range=1.0)  # 정규화된 데이터라면 data_range=1.0\n",
    "\n",
    "def calculate_ssim(y_true, y_pred):\n",
    "    \"\"\"SSIM 계산 함수\"\"\"\n",
    "    y_true = y_true.squeeze(0).cpu().numpy()\n",
    "    y_pred = y_pred.squeeze(0).cpu().numpy()\n",
    "    return structural_similarity(y_true, y_pred, data_range=1.0)  # 정규화된 데이터라면 data_range=1.0\n",
    "\n",
    "# evaluate 부분 + top10 best&worst\n",
    "model.eval()\n",
    "running_loss = 0.0\n",
    "running_psnr = 0.0\n",
    "running_ssim = 0.0\n",
    "psnr_list = []\n",
    "ssim_list = []\n",
    "loss_list = []\n",
    "total_loss = 0\n",
    "best_loss = np.inf\n",
    "worst_loss = -np.inf\n",
    "\n",
    "with torch.no_grad():\n",
    "    for i, data in tqdm(enumerate(test_loader), total=len(test_loader), desc=f\"Evaluating\"):\n",
    "        X, y = data[0].to(device), data[1].to(device)\n",
    "        X_hat = model(X)\n",
    "        mse_loss = criterion(X_hat, y)\n",
    "\n",
    "        # RMSE 계산\n",
    "        rms_loss = torch.sqrt(mse_loss)\n",
    "        running_loss += rms_loss.item()\n",
    "\n",
    "        # PSNR, SSIM 계산\n",
    "        for j in range(X.size(0)):  # 배치 내부 개별 이미지에 대해 계산\n",
    "            psnr = calculate_psnr(y[j, :, :, :], X_hat[j, :, :, :])\n",
    "            ssim = calculate_ssim(y[j, :, :, :], X_hat[j, :, :, :]) \n",
    "            running_psnr += psnr # batch에 대해 더해준다.\n",
    "            running_ssim += ssim\n",
    "\n",
    "        if mse_loss < best_loss:\n",
    "            best_loss = mse_loss\n",
    "            best = (X, y, X_hat)\n",
    "        if mse_loss > worst_loss:\n",
    "            worst_loss = mse_loss\n",
    "            worst = (X, y, X_hat)\n",
    "\n",
    "        if i % interval == interval - 1:\n",
    "            interval_loss = running_loss / interval\n",
    "            interval_psnr = running_psnr / (interval * X.size(0)) # batch에 대해 나눠준다\n",
    "            interval_ssim = running_ssim / (interval * X.size(0))\n",
    "\n",
    "            loss_list.append(interval_loss)\n",
    "            psnr_list.append(interval_psnr)\n",
    "            ssim_list.append(interval_ssim)\n",
    "\n",
    "            total_loss += interval_loss\n",
    "            running_loss = 0.0\n",
    "            running_psnr = 0.0\n",
    "            running_ssim = 0.0\n",
    "            tqdm.write(f'RMSE per interval: {interval_loss:.4f}, PSNR per interval: {interval_psnr:.2f}, SSIM per interval: {interval_ssim:.4f}')\n",
    "            # tqdm.write(f'RMSE per interval: {interval_loss}, PSNR per interval: {interval_psnr}, SSIM per interval: {interval_ssim}')\n",
    "\n",
    "    # 평균 RMSE 출력\n",
    "average_loss = total_loss / len(loss_list)\n",
    "print(f\"Average RMSE over all intervals: {average_loss:.6f}\")"
   ]
  },
  {
   "cell_type": "code",
   "execution_count": 286,
   "metadata": {},
   "outputs": [
    {
     "data": {
      "text/plain": [
       "(6, 6, 6)"
      ]
     },
     "execution_count": 286,
     "metadata": {},
     "output_type": "execute_result"
    }
   ],
   "source": [
    "len(loss_list), len(psnr_list), len(ssim_list)"
   ]
  },
  {
   "cell_type": "code",
   "execution_count": 287,
   "metadata": {},
   "outputs": [
    {
     "data": {
      "text/plain": [
       "[0.04799015559069812,\n",
       " 0.04561671837233007,\n",
       " 0.045962102169170974,\n",
       " 0.03989830264449119,\n",
       " 0.03966915669292211,\n",
       " 0.03775961230508983]"
      ]
     },
     "execution_count": 287,
     "metadata": {},
     "output_type": "execute_result"
    }
   ],
   "source": [
    "rmse_list = loss_list\n",
    "rmse_list"
   ]
  },
  {
   "cell_type": "code",
   "execution_count": 288,
   "metadata": {},
   "outputs": [
    {
     "data": {
      "image/png": "[encoded data removed]",
      "text/plain": [
       "<Figure size 1500x500 with 3 Axes>"
      ]
     },
     "metadata": {},
     "output_type": "display_data"
    }
   ],
   "source": [
    "import numpy as np\n",
    "import matplotlib.pyplot as plt\n",
    "\n",
    "# 각 지표에 대해 6개씩 그룹화하여 평균값 계산\n",
    "rmse_groups = [np.mean(rmse_list[0:2]), np.mean(rmse_list[2:4]), np.mean(rmse_list[4:6])]\n",
    "psnr_groups = [np.mean(psnr_list[0:2]), np.mean(psnr_list[2:4]), np.mean(psnr_list[4:6])]\n",
    "ssim_groups = [np.mean(ssim_list[0:2]), np.mean(ssim_list[2:4]), np.mean(ssim_list[4:6])]\n",
    "\n",
    "# 그룹 인덱스 (1, 2, 3)\n",
    "groups = [1, 2, 3]\n",
    "\n",
    "# 그래프 그리기\n",
    "fig, axs = plt.subplots(1, 3, figsize=(15, 5))\n",
    "\n",
    "# RMSE 그래프\n",
    "axs[0].bar(groups, rmse_groups, color='b')\n",
    "axs[0].set_title('RMSE per Group')\n",
    "axs[0].set_xlabel('Group')\n",
    "axs[0].set_ylabel('RMSE')\n",
    "\n",
    "# PSNR 그래프\n",
    "axs[1].bar(groups, psnr_groups, color='g')\n",
    "axs[1].set_title('PSNR per Group')\n",
    "axs[1].set_xlabel('Group')\n",
    "axs[1].set_ylabel('PSNR')\n",
    "\n",
    "# SSIM 그래프\n",
    "axs[2].bar(groups, ssim_groups, color='r')\n",
    "axs[2].set_title('SSIM per Group')\n",
    "axs[2].set_xlabel('Group')\n",
    "axs[2].set_ylabel('SSIM')\n",
    "\n",
    "# 그래프 레이아웃 조정\n",
    "plt.tight_layout()\n",
    "plt.show()"
   ]
  },
  {
   "cell_type": "code",
   "execution_count": 289,
   "metadata": {},
   "outputs": [
    {
     "name": "stdout",
     "output_type": "stream",
     "text": [
      "RMSE: 0.0428 ± 0.0038\n",
      "PSNR: 28.3022 ± 0.7832\n",
      "SSIM: 0.7000 ± 0.0225\n"
     ]
    }
   ],
   "source": [
    "# 평균(mean)과 표준편차(sd) 계산\n",
    "rmse_mean = np.mean(rmse_list)\n",
    "rmse_sd = np.std(rmse_list)\n",
    "\n",
    "psnr_mean = np.mean(psnr_list)\n",
    "psnr_sd = np.std(psnr_list)\n",
    "\n",
    "ssim_mean = np.mean(ssim_list)\n",
    "ssim_sd = np.std(ssim_list)\n",
    "\n",
    "# 결과를 mean ± sd 형식으로 표현\n",
    "rmse_result = f\"{rmse_mean:.4f} ± {rmse_sd:.4f}\"\n",
    "psnr_result = f\"{psnr_mean:.4f} ± {psnr_sd:.4f}\"\n",
    "ssim_result = f\"{ssim_mean:.4f} ± {ssim_sd:.4f}\"\n",
    "\n",
    "# 결과 출력\n",
    "print(f\"RMSE: {rmse_result}\")\n",
    "print(f\"PSNR: {psnr_result}\")\n",
    "print(f\"SSIM: {ssim_result}\")"
   ]
  },
  {
   "cell_type": "code",
   "execution_count": 290,
   "metadata": {},
   "outputs": [
    {
     "name": "stdout",
     "output_type": "stream",
     "text": [
      "Lists have been saved in the 'unet' folder:\n",
      "- loss_list.npy\n",
      "- psnr_list.npy\n",
      "- ssim_list.npy\n"
     ]
    }
   ],
   "source": [
    "import os\n",
    "import numpy as np\n",
    "\n",
    "# 파일 저장 경로\n",
    "file_names = {\n",
    "    \"loss\": \"loss_list.npy\",\n",
    "    \"psnr\": \"psnr_list.npy\",\n",
    "    \"ssim\": \"ssim_list.npy\"\n",
    "}\n",
    "\n",
    "# 각 리스트를 저장\n",
    "np.save(file_names[\"loss\"], loss_list)\n",
    "np.save(file_names[\"psnr\"], psnr_list)\n",
    "np.save(file_names[\"ssim\"], ssim_list)\n",
    "\n",
    "print(f\"Lists have been saved in the 'unet' folder:\\n- {file_names['loss']}\\n- {file_names['psnr']}\\n- {file_names['ssim']}\")\n"
   ]
  },
  {
   "cell_type": "markdown",
   "metadata": {},
   "source": [
    "# 최종결과비교"
   ]
  },
  {
   "cell_type": "code",
   "execution_count": 291,
   "metadata": {},
   "outputs": [],
   "source": [
    "import numpy as np\n",
    "import matplotlib.pyplot as plt\n",
    "\n",
    "# 파일 경로 및 데이터 로드\n",
    "file_names = {\n",
    "    \"loss\": \"loss_list.npy\",\n",
    "    \"psnr\": \"psnr_list.npy\",\n",
    "    \"ssim\": \"ssim_list.npy\"\n",
    "}"
   ]
  },
  {
   "cell_type": "markdown",
   "metadata": {},
   "source": [
    "## redcnn 안에서 비교"
   ]
  },
  {
   "cell_type": "code",
   "execution_count": 292,
   "metadata": {},
   "outputs": [],
   "source": [
    "output_dir = \"/root/code/redcnn/base/\"\n",
    "redcnn_rmse_list = np.load(output_dir + file_names[\"loss\"])\n",
    "redcnn_psnr_list = np.load(output_dir + file_names[\"psnr\"])\n",
    "redcnn_ssim_list = np.load(output_dir + file_names[\"ssim\"])\n",
    "\n",
    "output_dir = \"/root/code/redcnn/attention_channel/\"\n",
    "redcnnCA_rmse_list = np.load(output_dir + file_names[\"loss\"])\n",
    "redcnnCA_psnr_list = np.load(output_dir + file_names[\"psnr\"])\n",
    "redcnnCA_ssim_list = np.load(output_dir + file_names[\"ssim\"])\n",
    "\n",
    "output_dir = \"/root/code/redcnn/attention_spatial/\"\n",
    "redcnnSA_rmse_list = np.load(output_dir + file_names[\"loss\"])\n",
    "redcnnSA_psnr_list = np.load(output_dir + file_names[\"psnr\"])\n",
    "redcnnSA_ssim_list = np.load(output_dir + file_names[\"ssim\"])"
   ]
  },
  {
   "cell_type": "code",
   "execution_count": 293,
   "metadata": {},
   "outputs": [
    {
     "data": {
      "image/png": "[encoded data removed]",
      "text/plain": [
       "<Figure size 1800x500 with 3 Axes>"
      ]
     },
     "metadata": {},
     "output_type": "display_data"
    }
   ],
   "source": [
    "import numpy as np\n",
    "import matplotlib.pyplot as plt\n",
    "\n",
    "# RedCNN, RedCNN-CA, RedCNN-SA 결과 그룹화\n",
    "redcnn_rmse_groups = [np.mean(redcnn_rmse_list[0:2]), np.mean(redcnn_rmse_list[2:4]), np.mean(redcnn_rmse_list[4:6])]\n",
    "redcnn_psnr_groups = [np.mean(redcnn_psnr_list[0:2]), np.mean(redcnn_psnr_list[2:4]), np.mean(redcnn_psnr_list[4:6])]\n",
    "redcnn_ssim_groups = [np.mean(redcnn_ssim_list[0:2]), np.mean(redcnn_ssim_list[2:4]), np.mean(redcnn_ssim_list[4:6])]\n",
    "\n",
    "redcnnCA_rmse_groups = [np.mean(redcnnCA_rmse_list[0:2]), np.mean(redcnnCA_rmse_list[2:4]), np.mean(redcnnCA_rmse_list[4:6])]\n",
    "redcnnCA_psnr_groups = [np.mean(redcnnCA_psnr_list[0:2]), np.mean(redcnnCA_psnr_list[2:4]), np.mean(redcnnCA_psnr_list[4:6])]\n",
    "redcnnCA_ssim_groups = [np.mean(redcnnCA_ssim_list[0:2]), np.mean(redcnnCA_ssim_list[2:4]), np.mean(redcnnCA_ssim_list[4:6])]\n",
    "\n",
    "redcnnSA_rmse_groups = [np.mean(redcnnSA_rmse_list[0:2]), np.mean(redcnnSA_rmse_list[2:4]), np.mean(redcnnSA_rmse_list[4:6])]\n",
    "redcnnSA_psnr_groups = [np.mean(redcnnSA_psnr_list[0:2]), np.mean(redcnnSA_psnr_list[2:4]), np.mean(redcnnSA_psnr_list[4:6])]\n",
    "redcnnSA_ssim_groups = [np.mean(redcnnSA_ssim_list[0:2]), np.mean(redcnnSA_ssim_list[2:4]), np.mean(redcnnSA_ssim_list[4:6])]\n",
    "\n",
    "# 그룹 인덱스 (1, 2, 3)\n",
    "groups = np.array([1, 2, 3])\n",
    "bar_width = 0.2  # 막대 너비\n",
    "offset = bar_width\n",
    "\n",
    "# y축 범위 설정\n",
    "def get_y_limits(data_groups):\n",
    "    all_values = np.concatenate(data_groups)\n",
    "    min_val = np.min(all_values)\n",
    "    max_val = np.max(all_values)\n",
    "    margin = (max_val - min_val) * 0.1  # 여백 추가\n",
    "    return min_val - margin, max_val + margin\n",
    "\n",
    "rmse_ymin, rmse_ymax = get_y_limits([redcnn_rmse_groups, redcnnCA_rmse_groups, redcnnSA_rmse_groups])\n",
    "psnr_ymin, psnr_ymax = get_y_limits([redcnn_psnr_groups, redcnnCA_psnr_groups, redcnnSA_psnr_groups])\n",
    "ssim_ymin, ssim_ymax = get_y_limits([redcnn_ssim_groups, redcnnCA_ssim_groups, redcnnSA_ssim_groups])\n",
    "\n",
    "# 그래프 그리기\n",
    "fig, axs = plt.subplots(1, 3, figsize=(18, 5))\n",
    "\n",
    "# RMSE 그래프\n",
    "axs[0].bar(groups - offset, redcnn_rmse_groups, bar_width, label='RedCNN', color='b')\n",
    "axs[0].bar(groups, redcnnCA_rmse_groups, bar_width, label='RedCNN-CA', color='g')\n",
    "axs[0].bar(groups + offset, redcnnSA_rmse_groups, bar_width, label='RedCNN-SA', color='orange')\n",
    "axs[0].set_title('RMSE per Group')\n",
    "axs[0].set_xlabel('Group')\n",
    "axs[0].set_ylabel('RMSE')\n",
    "axs[0].set_ylim(rmse_ymin, rmse_ymax)  # y축 범위 설정\n",
    "axs[0].legend()\n",
    "\n",
    "# PSNR 그래프\n",
    "axs[1].bar(groups - offset, redcnn_psnr_groups, bar_width, label='RedCNN', color='b')\n",
    "axs[1].bar(groups, redcnnCA_psnr_groups, bar_width, label='RedCNN-CA', color='g')\n",
    "axs[1].bar(groups + offset, redcnnSA_psnr_groups, bar_width, label='RedCNN-SA', color='orange')\n",
    "axs[1].set_title('PSNR per Group')\n",
    "axs[1].set_xlabel('Group')\n",
    "axs[1].set_ylabel('PSNR')\n",
    "axs[1].set_ylim(psnr_ymin, psnr_ymax)  # y축 범위 설정\n",
    "axs[1].legend()\n",
    "\n",
    "# SSIM 그래프\n",
    "axs[2].bar(groups - offset, redcnn_ssim_groups, bar_width, label='RedCNN', color='b')\n",
    "axs[2].bar(groups, redcnnCA_ssim_groups, bar_width, label='RedCNN-CA', color='g')\n",
    "axs[2].bar(groups + offset, redcnnSA_ssim_groups, bar_width, label='RedCNN-SA', color='orange')\n",
    "axs[2].set_title('SSIM per Group')\n",
    "axs[2].set_xlabel('Group')\n",
    "axs[2].set_ylabel('SSIM')\n",
    "axs[2].set_ylim(ssim_ymin, ssim_ymax)  # y축 범위 설정\n",
    "axs[2].legend()\n",
    "\n",
    "# 그래프 레이아웃 조정\n",
    "plt.tight_layout()\n",
    "plt.show()"
   ]
  },
  {
   "cell_type": "code",
   "execution_count": 294,
   "metadata": {},
   "outputs": [
    {
     "data": {
      "image/png": "[encoded data removed]",
      "text/plain": [
       "<Figure size 800x300 with 1 Axes>"
      ]
     },
     "metadata": {},
     "output_type": "display_data"
    }
   ],
   "source": [
    "import numpy as np\n",
    "import matplotlib.pyplot as plt\n",
    "\n",
    "# RedCNN 결과\n",
    "redcnn_rmse_mean, redcnn_rmse_sd = np.mean(redcnn_rmse_list), np.std(redcnn_rmse_list)\n",
    "redcnn_psnr_mean, redcnn_psnr_sd = np.mean(redcnn_psnr_list), np.std(redcnn_psnr_list)\n",
    "redcnn_ssim_mean, redcnn_ssim_sd = np.mean(redcnn_ssim_list), np.std(redcnn_ssim_list)\n",
    "\n",
    "# RedCNN-CA 결과\n",
    "redcnnCA_rmse_mean, redcnnCA_rmse_sd = np.mean(redcnnCA_rmse_list), np.std(redcnnCA_rmse_list)\n",
    "redcnnCA_psnr_mean, redcnnCA_psnr_sd = np.mean(redcnnCA_psnr_list), np.std(redcnnCA_psnr_list)\n",
    "redcnnCA_ssim_mean, redcnnCA_ssim_sd = np.mean(redcnnCA_ssim_list), np.std(redcnnCA_ssim_list)\n",
    "\n",
    "# RedCNN-SA 결과\n",
    "redcnnSA_rmse_mean, redcnnSA_rmse_sd = np.mean(redcnnSA_rmse_list), np.std(redcnnSA_rmse_list)\n",
    "redcnnSA_psnr_mean, redcnnSA_psnr_sd = np.mean(redcnnSA_psnr_list), np.std(redcnnSA_psnr_list)\n",
    "redcnnSA_ssim_mean, redcnnSA_ssim_sd = np.mean(redcnnSA_ssim_list), np.std(redcnnSA_ssim_list)\n",
    "\n",
    "# 결과를 mean ± sd 형식으로 표현\n",
    "redcnn_results = [\n",
    "    f\"{redcnn_rmse_mean:.4f} ± {redcnn_rmse_sd:.4f}\",\n",
    "    f\"{redcnn_psnr_mean:.4f} ± {redcnn_psnr_sd:.4f}\",\n",
    "    f\"{redcnn_ssim_mean:.4f} ± {redcnn_ssim_sd:.4f}\"\n",
    "]\n",
    "\n",
    "redcnnCA_results = [\n",
    "    f\"{redcnnCA_rmse_mean:.4f} ± {redcnnCA_rmse_sd:.4f}\",\n",
    "    f\"{redcnnCA_psnr_mean:.4f} ± {redcnnCA_psnr_sd:.4f}\",\n",
    "    f\"{redcnnCA_ssim_mean:.4f} ± {redcnnCA_ssim_sd:.4f}\"\n",
    "]\n",
    "\n",
    "redcnnSA_results = [\n",
    "    f\"{redcnnSA_rmse_mean:.4f} ± {redcnnSA_rmse_sd:.4f}\",\n",
    "    f\"{redcnnSA_psnr_mean:.4f} ± {redcnnSA_psnr_sd:.4f}\",\n",
    "    f\"{redcnnSA_ssim_mean:.4f} ± {redcnnSA_ssim_sd:.4f}\"\n",
    "]\n",
    "\n",
    "# 테이블 데이터\n",
    "rows = [\"RedCNN\", \"RedCNN-CA\", \"RedCNN-SA\"]\n",
    "columns = [\"RMSE\", \"PSNR\", \"SSIM\"]\n",
    "table_data = [redcnn_results, redcnnCA_results, redcnnSA_results]\n",
    "\n",
    "# 테이블 생성\n",
    "fig, ax = plt.subplots(figsize=(8, 3))\n",
    "ax.axis('off')  # 축 숨기기\n",
    "ax.axis('tight')  # 테이블 맞춤 조정\n",
    "table = ax.table(cellText=table_data, rowLabels=rows, colLabels=columns, loc='center')\n",
    "\n",
    "# 스타일 설정\n",
    "table.auto_set_font_size(False)\n",
    "table.set_fontsize(10)\n",
    "table.scale(1.2, 1.5)  # 테이블 크기 조정\n",
    "\n",
    "plt.show()\n"
   ]
  },
  {
   "cell_type": "markdown",
   "metadata": {},
   "source": [
    "## unet 안에서 비교"
   ]
  },
  {
   "cell_type": "code",
   "execution_count": 295,
   "metadata": {},
   "outputs": [],
   "source": [
    "# U-Net 결과\n",
    "output_dir = \"/root/code/unet/base/\"\n",
    "unet_rmse_list = np.load(output_dir + file_names[\"loss\"])\n",
    "unet_psnr_list = np.load(output_dir + file_names[\"psnr\"])\n",
    "unet_ssim_list = np.load(output_dir + file_names[\"ssim\"])\n",
    "\n",
    "# U-Net-CA 결과\n",
    "output_dir = \"/root/code/unet/attention_channel/\"\n",
    "unetCA_rmse_list = np.load(output_dir + file_names[\"loss\"])\n",
    "unetCA_psnr_list = np.load(output_dir + file_names[\"psnr\"])\n",
    "unetCA_ssim_list = np.load(output_dir + file_names[\"ssim\"])\n",
    "\n",
    "# U-Net-SA 결과\n",
    "output_dir = \"/root/code/unet/attention_spatial/\"\n",
    "unetSA_rmse_list = np.load(output_dir + file_names[\"loss\"])\n",
    "unetSA_psnr_list = np.load(output_dir + file_names[\"psnr\"])\n",
    "unetSA_ssim_list = np.load(output_dir + file_names[\"ssim\"])"
   ]
  },
  {
   "cell_type": "code",
   "execution_count": 296,
   "metadata": {},
   "outputs": [
    {
     "data": {
      "image/png": "[encoded data removed]",
      "text/plain": [
       "<Figure size 1800x500 with 3 Axes>"
      ]
     },
     "metadata": {},
     "output_type": "display_data"
    }
   ],
   "source": [
    "# 결과 그룹화\n",
    "unet_rmse_groups = [np.mean(unet_rmse_list[0:2]), np.mean(unet_rmse_list[2:4]), np.mean(unet_rmse_list[4:6])]\n",
    "unet_psnr_groups = [np.mean(unet_psnr_list[0:2]), np.mean(unet_psnr_list[2:4]), np.mean(unet_psnr_list[4:6])]\n",
    "unet_ssim_groups = [np.mean(unet_ssim_list[0:2]), np.mean(unet_ssim_list[2:4]), np.mean(unet_ssim_list[4:6])]\n",
    "\n",
    "unetCA_rmse_groups = [np.mean(unetCA_rmse_list[0:2]), np.mean(unetCA_rmse_list[2:4]), np.mean(unetCA_rmse_list[4:6])]\n",
    "unetCA_psnr_groups = [np.mean(unetCA_psnr_list[0:2]), np.mean(unetCA_psnr_list[2:4]), np.mean(unetCA_psnr_list[4:6])]\n",
    "unetCA_ssim_groups = [np.mean(unetCA_ssim_list[0:2]), np.mean(unetCA_ssim_list[2:4]), np.mean(unetCA_ssim_list[4:6])]\n",
    "\n",
    "unetSA_rmse_groups = [np.mean(unetSA_rmse_list[0:2]), np.mean(unetSA_rmse_list[2:4]), np.mean(unetSA_rmse_list[4:6])]\n",
    "unetSA_psnr_groups = [np.mean(unetSA_psnr_list[0:2]), np.mean(unetSA_psnr_list[2:4]), np.mean(unetSA_psnr_list[4:6])]\n",
    "unetSA_ssim_groups = [np.mean(unetSA_ssim_list[0:2]), np.mean(unetSA_ssim_list[2:4]), np.mean(unetSA_ssim_list[4:6])]\n",
    "\n",
    "# 그룹 인덱스 (1, 2, 3)\n",
    "groups = np.array([1, 2, 3])\n",
    "bar_width = 0.2  # 막대 너비\n",
    "offset = bar_width\n",
    "\n",
    "# y축 범위 설정\n",
    "def get_y_limits(data_groups):\n",
    "    all_values = np.concatenate(data_groups)\n",
    "    min_val = np.min(all_values)\n",
    "    max_val = np.max(all_values)\n",
    "    margin = (max_val - min_val) * 0.1  # 여백 추가\n",
    "    return min_val - margin, max_val + margin\n",
    "\n",
    "rmse_ymin, rmse_ymax = get_y_limits([unet_rmse_groups, unetCA_rmse_groups, unetSA_rmse_groups])\n",
    "psnr_ymin, psnr_ymax = get_y_limits([unet_psnr_groups, unetCA_psnr_groups, unetSA_psnr_groups])\n",
    "ssim_ymin, ssim_ymax = get_y_limits([unet_ssim_groups, unetCA_ssim_groups, unetSA_ssim_groups])\n",
    "\n",
    "# 그래프 그리기\n",
    "fig, axs = plt.subplots(1, 3, figsize=(18, 5))\n",
    "\n",
    "# RMSE 그래프\n",
    "axs[0].bar(groups - offset, unet_rmse_groups, bar_width, label='U-Net', color='b')\n",
    "axs[0].bar(groups, unetCA_rmse_groups, bar_width, label='U-Net-CA', color='g')\n",
    "axs[0].bar(groups + offset, unetSA_rmse_groups, bar_width, label='U-Net-SA', color='orange')\n",
    "axs[0].set_title('RMSE per Group')\n",
    "axs[0].set_xlabel('Group')\n",
    "axs[0].set_ylabel('RMSE')\n",
    "axs[0].set_ylim(rmse_ymin, rmse_ymax)  # y축 범위 설정\n",
    "axs[0].legend()\n",
    "\n",
    "# PSNR 그래프\n",
    "axs[1].bar(groups - offset, unet_psnr_groups, bar_width, label='U-Net', color='b')\n",
    "axs[1].bar(groups, unetCA_psnr_groups, bar_width, label='U-Net-CA', color='g')\n",
    "axs[1].bar(groups + offset, unetSA_psnr_groups, bar_width, label='U-Net-SA', color='orange')\n",
    "axs[1].set_title('PSNR per Group')\n",
    "axs[1].set_xlabel('Group')\n",
    "axs[1].set_ylabel('PSNR')\n",
    "axs[1].set_ylim(psnr_ymin, psnr_ymax)  # y축 범위 설정\n",
    "axs[1].legend()\n",
    "\n",
    "# SSIM 그래프\n",
    "axs[2].bar(groups - offset, unet_ssim_groups, bar_width, label='U-Net', color='b')\n",
    "axs[2].bar(groups, unetCA_ssim_groups, bar_width, label='U-Net-CA', color='g')\n",
    "axs[2].bar(groups + offset, unetSA_ssim_groups, bar_width, label='U-Net-SA', color='orange')\n",
    "axs[2].set_title('SSIM per Group')\n",
    "axs[2].set_xlabel('Group')\n",
    "axs[2].set_ylabel('SSIM')\n",
    "axs[2].set_ylim(ssim_ymin, ssim_ymax)  # y축 범위 설정\n",
    "axs[2].legend()\n",
    "\n",
    "# 그래프 레이아웃 조정\n",
    "plt.tight_layout()\n",
    "plt.show()"
   ]
  },
  {
   "cell_type": "code",
   "execution_count": 297,
   "metadata": {},
   "outputs": [
    {
     "data": {
      "image/png": "[encoded data removed]",
      "text/plain": [
       "<Figure size 800x300 with 1 Axes>"
      ]
     },
     "metadata": {},
     "output_type": "display_data"
    }
   ],
   "source": [
    "import numpy as np\n",
    "import matplotlib.pyplot as plt\n",
    "\n",
    "# UNet 결과\n",
    "unet_rmse_mean, unet_rmse_sd = np.mean(unet_rmse_list), np.std(unet_rmse_list)\n",
    "unet_psnr_mean, unet_psnr_sd = np.mean(unet_psnr_list), np.std(unet_psnr_list)\n",
    "unet_ssim_mean, unet_ssim_sd = np.mean(unet_ssim_list), np.std(unet_ssim_list)\n",
    "\n",
    "# UNet-CA 결과\n",
    "unetCA_rmse_mean, unetCA_rmse_sd = np.mean(unetCA_rmse_list), np.std(unetCA_rmse_list)\n",
    "unetCA_psnr_mean, unetCA_psnr_sd = np.mean(unetCA_psnr_list), np.std(unetCA_psnr_list)\n",
    "unetCA_ssim_mean, unetCA_ssim_sd = np.mean(unetCA_ssim_list), np.std(unetCA_ssim_list)\n",
    "\n",
    "# UNet-SA 결과\n",
    "unetSA_rmse_mean, unetSA_rmse_sd = np.mean(unetSA_rmse_list), np.std(unetSA_rmse_list)\n",
    "unetSA_psnr_mean, unetSA_psnr_sd = np.mean(unetSA_psnr_list), np.std(unetSA_psnr_list)\n",
    "unetSA_ssim_mean, unetSA_ssim_sd = np.mean(unetSA_ssim_list), np.std(unetSA_ssim_list)\n",
    "\n",
    "# 결과를 mean ± sd 형식으로 표현\n",
    "unet_results = [\n",
    "    f\"{unet_rmse_mean:.4f} ± {unet_rmse_sd:.4f}\",\n",
    "    f\"{unet_psnr_mean:.4f} ± {unet_psnr_sd:.4f}\",\n",
    "    f\"{unet_ssim_mean:.4f} ± {unet_ssim_sd:.4f}\"\n",
    "]\n",
    "\n",
    "unetCA_results = [\n",
    "    f\"{unetCA_rmse_mean:.4f} ± {unetCA_rmse_sd:.4f}\",\n",
    "    f\"{unetCA_psnr_mean:.4f} ± {unetCA_psnr_sd:.4f}\",\n",
    "    f\"{unetCA_ssim_mean:.4f} ± {unetCA_ssim_sd:.4f}\"\n",
    "]\n",
    "\n",
    "unetSA_results = [\n",
    "    f\"{unetSA_rmse_mean:.4f} ± {unetSA_rmse_sd:.4f}\",\n",
    "    f\"{unetSA_psnr_mean:.4f} ± {unetSA_psnr_sd:.4f}\",\n",
    "    f\"{unetSA_ssim_mean:.4f} ± {unetSA_ssim_sd:.4f}\"\n",
    "]\n",
    "\n",
    "# 테이블 데이터\n",
    "rows = [\"UNet\", \"UNet-CA\", \"UNet-SA\"]\n",
    "columns = [\"RMSE\", \"PSNR\", \"SSIM\"]\n",
    "table_data = [unet_results, unetCA_results, unetSA_results]\n",
    "\n",
    "# 테이블 생성\n",
    "fig, ax = plt.subplots(figsize=(8, 3))\n",
    "ax.axis('off')  # 축 숨기기\n",
    "ax.axis('tight')  # 테이블 맞춤 조정\n",
    "table = ax.table(cellText=table_data, rowLabels=rows, colLabels=columns, loc='center')\n",
    "\n",
    "# 스타일 설정\n",
    "table.auto_set_font_size(False)\n",
    "table.set_fontsize(10)\n",
    "table.scale(1.2, 1.5)  # 테이블 크기 조정\n",
    "\n",
    "plt.show()\n"
   ]
  },
  {
   "cell_type": "markdown",
   "metadata": {},
   "source": [
    "## 전체 비교"
   ]
  },
  {
   "cell_type": "code",
   "execution_count": 298,
   "metadata": {},
   "outputs": [
    {
     "data": {
      "image/png": "[encoded data removed]",
      "text/plain": [
       "<Figure size 1800x500 with 3 Axes>"
      ]
     },
     "metadata": {},
     "output_type": "display_data"
    }
   ],
   "source": [
    "import numpy as np\n",
    "import matplotlib.pyplot as plt\n",
    "\n",
    "# y축 범위 설정 함수\n",
    "def get_y_limits(data_groups):\n",
    "    all_values = np.concatenate(data_groups)\n",
    "    min_val = np.min(all_values)\n",
    "    max_val = np.max(all_values)\n",
    "    margin = (max_val - min_val) * 0.1  # 10% 여유\n",
    "    return min_val - margin, max_val + margin\n",
    "\n",
    "# RMSE, PSNR, SSIM의 y축 범위 계산\n",
    "rmse_ymin, rmse_ymax = get_y_limits([redcnn_rmse_groups, redcnnCA_rmse_groups, redcnnSA_rmse_groups, \n",
    "                                     unet_rmse_groups, unetCA_rmse_groups, unetSA_rmse_groups])\n",
    "psnr_ymin, psnr_ymax = get_y_limits([redcnn_psnr_groups, redcnnCA_psnr_groups, redcnnSA_psnr_groups, \n",
    "                                     unet_psnr_groups, unetCA_psnr_groups, unetSA_psnr_groups])\n",
    "ssim_ymin, ssim_ymax = get_y_limits([redcnn_ssim_groups, redcnnCA_ssim_groups, redcnnSA_ssim_groups, \n",
    "                                     unet_ssim_groups, unetCA_ssim_groups, unetSA_ssim_groups])\n",
    "\n",
    "# 그룹 인덱스 (1, 2, 3)\n",
    "groups = np.array([1, 2, 3])\n",
    "bar_width = 0.1  # 막대 너비\n",
    "offset = bar_width\n",
    "\n",
    "# 그래프 그리기\n",
    "fig, axs = plt.subplots(1, 3, figsize=(18, 5))\n",
    "\n",
    "# RMSE 그래프\n",
    "axs[0].bar(groups - 3 * offset, redcnn_rmse_groups, bar_width, label='RedCNN', color='b')\n",
    "axs[0].bar(groups - 2 * offset, redcnnCA_rmse_groups, bar_width, label='RedCNN-CA', color='g')\n",
    "axs[0].bar(groups - offset, redcnnSA_rmse_groups, bar_width, label='RedCNN-SA', color='orange')\n",
    "axs[0].bar(groups, unet_rmse_groups, bar_width, label='UNet', color='r')\n",
    "axs[0].bar(groups + offset, unetCA_rmse_groups, bar_width, label='UNet-CA', color='purple')\n",
    "axs[0].bar(groups + 2 * offset, unetSA_rmse_groups, bar_width, label='UNet-SA', color='brown')\n",
    "axs[0].set_title('RMSE per Group')\n",
    "axs[0].set_xlabel('Group')\n",
    "axs[0].set_ylabel('RMSE')\n",
    "axs[0].set_ylim(rmse_ymin, rmse_ymax)  # y축 범위 설정\n",
    "axs[0].legend()\n",
    "\n",
    "# PSNR 그래프\n",
    "axs[1].bar(groups - 3 * offset, redcnn_psnr_groups, bar_width, label='RedCNN', color='b')\n",
    "axs[1].bar(groups - 2 * offset, redcnnCA_psnr_groups, bar_width, label='RedCNN-CA', color='g')\n",
    "axs[1].bar(groups - offset, redcnnSA_psnr_groups, bar_width, label='RedCNN-SA', color='orange')\n",
    "axs[1].bar(groups, unet_psnr_groups, bar_width, label='UNet', color='r')\n",
    "axs[1].bar(groups + offset, unetCA_psnr_groups, bar_width, label='UNet-CA', color='purple')\n",
    "axs[1].bar(groups + 2 * offset, unetSA_psnr_groups, bar_width, label='UNet-SA', color='brown')\n",
    "axs[1].set_title('PSNR per Group')\n",
    "axs[1].set_xlabel('Group')\n",
    "axs[1].set_ylabel('PSNR')\n",
    "axs[1].set_ylim(psnr_ymin, psnr_ymax)  # y축 범위 설정\n",
    "axs[1].legend()\n",
    "\n",
    "# SSIM 그래프\n",
    "axs[2].bar(groups - 3 * offset, redcnn_ssim_groups, bar_width, label='RedCNN', color='b')\n",
    "axs[2].bar(groups - 2 * offset, redcnnCA_ssim_groups, bar_width, label='RedCNN-CA', color='g')\n",
    "axs[2].bar(groups - offset, redcnnSA_ssim_groups, bar_width, label='RedCNN-SA', color='orange')\n",
    "axs[2].bar(groups, unet_ssim_groups, bar_width, label='UNet', color='r')\n",
    "axs[2].bar(groups + offset, unetCA_ssim_groups, bar_width, label='UNet-CA', color='purple')\n",
    "axs[2].bar(groups + 2 * offset, unetSA_ssim_groups, bar_width, label='UNet-SA', color='brown')\n",
    "axs[2].set_title('SSIM per Group')\n",
    "axs[2].set_xlabel('Group')\n",
    "axs[2].set_ylabel('SSIM')\n",
    "axs[2].set_ylim(ssim_ymin, ssim_ymax)  # y축 범위 설정\n",
    "axs[2].legend()\n",
    "\n",
    "# 그래프 레이아웃 조정\n",
    "plt.tight_layout()\n",
    "plt.show()"
   ]
  },
  {
   "cell_type": "code",
   "execution_count": 299,
   "metadata": {},
   "outputs": [
    {
     "data": {
      "image/png": "[encoded data removed]",
      "text/plain": [
       "<Figure size 1800x500 with 3 Axes>"
      ]
     },
     "metadata": {},
     "output_type": "display_data"
    }
   ],
   "source": [
    "import numpy as np\n",
    "import matplotlib.pyplot as plt\n",
    "\n",
    "# y축 범위 설정 함수\n",
    "def get_y_limits(data_groups):\n",
    "    all_values = np.concatenate(data_groups)\n",
    "    min_val = np.min(all_values)\n",
    "    max_val = np.max(all_values)\n",
    "    margin = (max_val - min_val) * 0.1  # 10% 여유\n",
    "    return min_val - margin, max_val + margin\n",
    "\n",
    "# RMSE, PSNR, SSIM의 y축 범위 계산\n",
    "rmse_ymin, rmse_ymax = get_y_limits([redcnn_rmse_groups, unet_rmse_groups])\n",
    "psnr_ymin, psnr_ymax = get_y_limits([redcnn_psnr_groups, unet_psnr_groups])\n",
    "ssim_ymin, ssim_ymax = get_y_limits([redcnn_ssim_groups, unet_ssim_groups])\n",
    "\n",
    "# 그룹 인덱스 (1, 2, 3)\n",
    "groups = np.array([1, 2, 3])\n",
    "bar_width = 0.3  # 막대 너비\n",
    "offset = bar_width / 2\n",
    "\n",
    "# 그래프 그리기\n",
    "fig, axs = plt.subplots(1, 3, figsize=(18, 5))\n",
    "\n",
    "# RMSE 그래프\n",
    "axs[0].bar(groups - offset, redcnn_rmse_groups, bar_width, label='RedCNN', color='b')\n",
    "axs[0].bar(groups + offset, unet_rmse_groups, bar_width, label='UNet', color='r')\n",
    "axs[0].set_title('RMSE per Group')\n",
    "axs[0].set_xlabel('Group')\n",
    "axs[0].set_ylabel('RMSE')\n",
    "axs[0].set_ylim(rmse_ymin, rmse_ymax)  # y축 범위 설정\n",
    "axs[0].legend()\n",
    "\n",
    "# PSNR 그래프\n",
    "axs[1].bar(groups - offset, redcnn_psnr_groups, bar_width, label='RedCNN', color='b')\n",
    "axs[1].bar(groups + offset, unet_psnr_groups, bar_width, label='UNet', color='r')\n",
    "axs[1].set_title('PSNR per Group')\n",
    "axs[1].set_xlabel('Group')\n",
    "axs[1].set_ylabel('PSNR')\n",
    "axs[1].set_ylim(psnr_ymin, psnr_ymax)  # y축 범위 설정\n",
    "axs[1].legend()\n",
    "\n",
    "# SSIM 그래프\n",
    "axs[2].bar(groups - offset, redcnn_ssim_groups, bar_width, label='RedCNN', color='b')\n",
    "axs[2].bar(groups + offset, unet_ssim_groups, bar_width, label='UNet', color='r')\n",
    "axs[2].set_title('SSIM per Group')\n",
    "axs[2].set_xlabel('Group')\n",
    "axs[2].set_ylabel('SSIM')\n",
    "axs[2].set_ylim(ssim_ymin, ssim_ymax)  # y축 범위 설정\n",
    "axs[2].legend()\n",
    "\n",
    "# 그래프 레이아웃 조정\n",
    "plt.tight_layout()\n",
    "plt.show()"
   ]
  },
  {
   "cell_type": "code",
   "execution_count": null,
   "metadata": {},
   "outputs": [],
   "source": []
  },
  {
   "cell_type": "code",
   "execution_count": null,
   "metadata": {},
   "outputs": [],
   "source": []
  }
 ],
 "metadata": {
  "kernelspec": {
   "display_name": "Python 3",
   "language": "python",
   "name": "python3"
  },
  "language_info": {
   "codemirror_mode": {
    "name": "ipython",
    "version": 3
   },
   "file_extension": ".py",
   "mimetype": "text/x-python",
   "name": "python",
   "nbconvert_exporter": "python",
   "pygments_lexer": "ipython3",
   "version": "3.10.11"
  }
 },
 "nbformat": 4,
 "nbformat_minor": 2
}
